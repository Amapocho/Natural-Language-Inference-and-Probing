{
  "nbformat": 4,
  "nbformat_minor": 0,
  "metadata": {
    "kernelspec": {
      "language": "python",
      "display_name": "Python 3",
      "name": "python3"
    },
    "language_info": {
      "name": "python",
      "version": "3.7.10",
      "mimetype": "text/x-python",
      "codemirror_mode": {
        "name": "ipython",
        "version": 3
      },
      "pygments_lexer": "ipython3",
      "nbconvert_exporter": "python",
      "file_extension": ".py"
    },
    "colab": {
      "name": "SNLI_with_BiLSTM.ipynb",
      "provenance": [],
      "collapsed_sections": []
    }
  },
  "cells": [
    {
      "cell_type": "markdown",
      "metadata": {
        "id": "vc7Fg3n2lR5j"
      },
      "source": [
        "#Inference on SNLI with BiLSTM"
      ]
    },
    {
      "cell_type": "markdown",
      "metadata": {
        "id": "_6pjXRQ7lZy-"
      },
      "source": [
        "## Import libraries"
      ]
    },
    {
      "cell_type": "code",
      "metadata": {
        "execution": {
          "iopub.status.busy": "2021-08-08T11:18:49.419000Z",
          "iopub.execute_input": "2021-08-08T11:18:49.419335Z",
          "iopub.status.idle": "2021-08-08T11:18:49.425283Z",
          "shell.execute_reply.started": "2021-08-08T11:18:49.419305Z",
          "shell.execute_reply": "2021-08-08T11:18:49.423956Z"
        },
        "trusted": true,
        "id": "hzJGlGzLlFEY"
      },
      "source": [
        "import numpy as np\n",
        "import pandas as pd\n",
        "import torch\n",
        "import torch.nn as nn\n",
        "import torch.nn.functional as F\n",
        "\n",
        "import spacy\n",
        "import re\n",
        "import string\n",
        "import time\n",
        "\n",
        "from collections import Counter\n",
        "from torch.utils.data import Dataset, DataLoader\n",
        "import matplotlib.pyplot as plt"
      ],
      "execution_count": null,
      "outputs": []
    },
    {
      "cell_type": "code",
      "metadata": {
        "execution": {
          "iopub.status.busy": "2021-08-08T09:59:24.766387Z",
          "iopub.execute_input": "2021-08-08T09:59:24.766799Z",
          "iopub.status.idle": "2021-08-08T09:59:37.770267Z",
          "shell.execute_reply.started": "2021-08-08T09:59:24.766762Z",
          "shell.execute_reply": "2021-08-08T09:59:37.769141Z"
        },
        "trusted": true,
        "id": "y2qQz-bAlFEc",
        "outputId": "32af984d-bd0d-4c82-a46d-98fa12701df9"
      },
      "source": [
        "!python -m spacy download en"
      ],
      "execution_count": null,
      "outputs": [
        {
          "output_type": "stream",
          "text": [
            "Collecting en_core_web_sm==2.3.1\n",
            "  Downloading https://github.com/explosion/spacy-models/releases/download/en_core_web_sm-2.3.1/en_core_web_sm-2.3.1.tar.gz (12.0 MB)\n",
            "\u001b[K     |████████████████████████████████| 12.0 MB 7.7 MB/s eta 0:00:01    |███████████▎                    | 4.2 MB 7.7 MB/s eta 0:00:02\n",
            "\u001b[?25hRequirement already satisfied: spacy<2.4.0,>=2.3.0 in /opt/conda/lib/python3.7/site-packages (from en_core_web_sm==2.3.1) (2.3.7)\n",
            "Requirement already satisfied: requests<3.0.0,>=2.13.0 in /opt/conda/lib/python3.7/site-packages (from spacy<2.4.0,>=2.3.0->en_core_web_sm==2.3.1) (2.25.1)\n",
            "Requirement already satisfied: numpy>=1.15.0 in /opt/conda/lib/python3.7/site-packages (from spacy<2.4.0,>=2.3.0->en_core_web_sm==2.3.1) (1.19.5)\n",
            "Requirement already satisfied: murmurhash<1.1.0,>=0.28.0 in /opt/conda/lib/python3.7/site-packages (from spacy<2.4.0,>=2.3.0->en_core_web_sm==2.3.1) (1.0.5)\n",
            "Requirement already satisfied: thinc<7.5.0,>=7.4.1 in /opt/conda/lib/python3.7/site-packages (from spacy<2.4.0,>=2.3.0->en_core_web_sm==2.3.1) (7.4.5)\n",
            "Requirement already satisfied: plac<1.2.0,>=0.9.6 in /opt/conda/lib/python3.7/site-packages (from spacy<2.4.0,>=2.3.0->en_core_web_sm==2.3.1) (1.1.3)\n",
            "Requirement already satisfied: blis<0.8.0,>=0.4.0 in /opt/conda/lib/python3.7/site-packages (from spacy<2.4.0,>=2.3.0->en_core_web_sm==2.3.1) (0.7.4)\n",
            "Requirement already satisfied: setuptools in /opt/conda/lib/python3.7/site-packages (from spacy<2.4.0,>=2.3.0->en_core_web_sm==2.3.1) (49.6.0.post20210108)\n",
            "Requirement already satisfied: preshed<3.1.0,>=3.0.2 in /opt/conda/lib/python3.7/site-packages (from spacy<2.4.0,>=2.3.0->en_core_web_sm==2.3.1) (3.0.5)\n",
            "Requirement already satisfied: tqdm<5.0.0,>=4.38.0 in /opt/conda/lib/python3.7/site-packages (from spacy<2.4.0,>=2.3.0->en_core_web_sm==2.3.1) (4.61.1)\n",
            "Requirement already satisfied: cymem<2.1.0,>=2.0.2 in /opt/conda/lib/python3.7/site-packages (from spacy<2.4.0,>=2.3.0->en_core_web_sm==2.3.1) (2.0.5)\n",
            "Requirement already satisfied: srsly<1.1.0,>=1.0.2 in /opt/conda/lib/python3.7/site-packages (from spacy<2.4.0,>=2.3.0->en_core_web_sm==2.3.1) (1.0.5)\n",
            "Requirement already satisfied: catalogue<1.1.0,>=0.0.7 in /opt/conda/lib/python3.7/site-packages (from spacy<2.4.0,>=2.3.0->en_core_web_sm==2.3.1) (1.0.0)\n",
            "Requirement already satisfied: wasabi<1.1.0,>=0.4.0 in /opt/conda/lib/python3.7/site-packages (from spacy<2.4.0,>=2.3.0->en_core_web_sm==2.3.1) (0.8.2)\n",
            "Requirement already satisfied: importlib-metadata>=0.20 in /opt/conda/lib/python3.7/site-packages (from catalogue<1.1.0,>=0.0.7->spacy<2.4.0,>=2.3.0->en_core_web_sm==2.3.1) (3.4.0)\n",
            "Requirement already satisfied: typing-extensions>=3.6.4 in /opt/conda/lib/python3.7/site-packages (from importlib-metadata>=0.20->catalogue<1.1.0,>=0.0.7->spacy<2.4.0,>=2.3.0->en_core_web_sm==2.3.1) (3.7.4.3)\n",
            "Requirement already satisfied: zipp>=0.5 in /opt/conda/lib/python3.7/site-packages (from importlib-metadata>=0.20->catalogue<1.1.0,>=0.0.7->spacy<2.4.0,>=2.3.0->en_core_web_sm==2.3.1) (3.4.1)\n",
            "Requirement already satisfied: certifi>=2017.4.17 in /opt/conda/lib/python3.7/site-packages (from requests<3.0.0,>=2.13.0->spacy<2.4.0,>=2.3.0->en_core_web_sm==2.3.1) (2021.5.30)\n",
            "Requirement already satisfied: chardet<5,>=3.0.2 in /opt/conda/lib/python3.7/site-packages (from requests<3.0.0,>=2.13.0->spacy<2.4.0,>=2.3.0->en_core_web_sm==2.3.1) (4.0.0)\n",
            "Requirement already satisfied: urllib3<1.27,>=1.21.1 in /opt/conda/lib/python3.7/site-packages (from requests<3.0.0,>=2.13.0->spacy<2.4.0,>=2.3.0->en_core_web_sm==2.3.1) (1.26.5)\n",
            "Requirement already satisfied: idna<3,>=2.5 in /opt/conda/lib/python3.7/site-packages (from requests<3.0.0,>=2.13.0->spacy<2.4.0,>=2.3.0->en_core_web_sm==2.3.1) (2.10)\n",
            "\u001b[33mWARNING: Running pip as root will break packages and permissions. You should install packages reliably by using venv: https://pip.pypa.io/warnings/venv\u001b[0m\n",
            "\u001b[38;5;2m✔ Download and installation successful\u001b[0m\n",
            "You can now load the model via spacy.load('en_core_web_sm')\n",
            "\u001b[38;5;2m✔ Linking successful\u001b[0m\n",
            "/opt/conda/lib/python3.7/site-packages/en_core_web_sm -->\n",
            "/opt/conda/lib/python3.7/site-packages/spacy/data/en\n",
            "You can now load the model via spacy.load('en')\n"
          ],
          "name": "stdout"
        }
      ]
    },
    {
      "cell_type": "markdown",
      "metadata": {
        "id": "x4UjIRyElbDe"
      },
      "source": [
        "##Set random seed"
      ]
    },
    {
      "cell_type": "code",
      "metadata": {
        "execution": {
          "iopub.status.busy": "2021-08-08T09:59:24.757015Z",
          "iopub.execute_input": "2021-08-08T09:59:24.757284Z",
          "iopub.status.idle": "2021-08-08T09:59:24.764344Z",
          "shell.execute_reply.started": "2021-08-08T09:59:24.757259Z",
          "shell.execute_reply": "2021-08-08T09:59:24.763315Z"
        },
        "trusted": true,
        "id": "xiIdqhwLlFEb"
      },
      "source": [
        "SEED = 1\n",
        "\n",
        "np.random.seed(SEED)\n",
        "torch.manual_seed(SEED)\n",
        "torch.backends.cudnn.deterministic = True"
      ],
      "execution_count": null,
      "outputs": []
    },
    {
      "cell_type": "markdown",
      "metadata": {
        "id": "cCNioghald_V"
      },
      "source": [
        "## Preprocess data"
      ]
    },
    {
      "cell_type": "markdown",
      "metadata": {
        "id": "RVBlVZNKlqbi"
      },
      "source": [
        "### Import data"
      ]
    },
    {
      "cell_type": "code",
      "metadata": {
        "execution": {
          "iopub.status.busy": "2021-08-08T09:59:37.775371Z",
          "iopub.execute_input": "2021-08-08T09:59:37.779020Z",
          "iopub.status.idle": "2021-08-08T09:59:45.576496Z",
          "shell.execute_reply.started": "2021-08-08T09:59:37.778976Z",
          "shell.execute_reply": "2021-08-08T09:59:45.575515Z"
        },
        "trusted": true,
        "id": "3rz_t9VrlFEe"
      },
      "source": [
        "train = pd.read_csv('../input/stanford-natural-language-inference-corpus/snli_1.0_train.csv')\n",
        "test = pd.read_csv('../input/stanford-natural-language-inference-corpus/snli_1.0_test.csv')\n",
        "valid = pd.read_csv('../input/stanford-natural-language-inference-corpus/snli_1.0_dev.csv')"
      ],
      "execution_count": null,
      "outputs": []
    },
    {
      "cell_type": "markdown",
      "metadata": {
        "id": "uHZoFxsmlsAy"
      },
      "source": [
        "### Remove null data points"
      ]
    },
    {
      "cell_type": "code",
      "metadata": {
        "execution": {
          "iopub.status.busy": "2021-08-08T09:59:45.577893Z",
          "iopub.execute_input": "2021-08-08T09:59:45.578267Z",
          "iopub.status.idle": "2021-08-08T09:59:46.176483Z",
          "shell.execute_reply.started": "2021-08-08T09:59:45.578229Z",
          "shell.execute_reply": "2021-08-08T09:59:46.175519Z"
        },
        "trusted": true,
        "id": "dLzFi-64lFEg",
        "outputId": "a67526e1-e704-4533-90c5-6e71143a1ba8"
      },
      "source": [
        "train.isnull().sum()"
      ],
      "execution_count": null,
      "outputs": [
        {
          "output_type": "execute_result",
          "data": {
            "text/plain": [
              "gold_label                     0\n",
              "sentence1_binary_parse         0\n",
              "sentence2_binary_parse         6\n",
              "sentence1_parse                0\n",
              "sentence2_parse                0\n",
              "sentence1                      0\n",
              "sentence2                      6\n",
              "captionID                      0\n",
              "pairID                         0\n",
              "label1                         0\n",
              "label2                    510782\n",
              "label3                    510757\n",
              "label4                    510769\n",
              "label5                    513238\n",
              "dtype: int64"
            ]
          },
          "metadata": {
            "tags": []
          },
          "execution_count": 5
        }
      ]
    },
    {
      "cell_type": "code",
      "metadata": {
        "execution": {
          "iopub.status.busy": "2021-08-08T09:59:46.177805Z",
          "iopub.execute_input": "2021-08-08T09:59:46.178193Z",
          "iopub.status.idle": "2021-08-08T09:59:46.599150Z",
          "shell.execute_reply.started": "2021-08-08T09:59:46.178158Z",
          "shell.execute_reply": "2021-08-08T09:59:46.598299Z"
        },
        "trusted": true,
        "id": "Ndv5JmNglFEg"
      },
      "source": [
        "train = train.dropna(subset = ['sentence2'])\n",
        "train = train[train[\"gold_label\"] != \"-\"]\n",
        "test = test[test[\"gold_label\"] != \"-\"]\n",
        "valid = valid[valid[\"gold_label\"] != \"-\"]"
      ],
      "execution_count": null,
      "outputs": []
    },
    {
      "cell_type": "code",
      "metadata": {
        "execution": {
          "iopub.status.busy": "2021-08-08T09:59:46.600488Z",
          "iopub.execute_input": "2021-08-08T09:59:46.600821Z",
          "iopub.status.idle": "2021-08-08T09:59:47.185751Z",
          "shell.execute_reply.started": "2021-08-08T09:59:46.600787Z",
          "shell.execute_reply": "2021-08-08T09:59:47.184782Z"
        },
        "trusted": true,
        "id": "XOwuSP_plFEh",
        "outputId": "a0bf08e1-c750-442a-8573-d15769eb48f7"
      },
      "source": [
        "train.isnull().sum()"
      ],
      "execution_count": null,
      "outputs": [
        {
          "output_type": "execute_result",
          "data": {
            "text/plain": [
              "gold_label                     0\n",
              "sentence1_binary_parse         0\n",
              "sentence2_binary_parse         0\n",
              "sentence1_parse                0\n",
              "sentence2_parse                0\n",
              "sentence1                      0\n",
              "sentence2                      0\n",
              "captionID                      0\n",
              "pairID                         0\n",
              "label1                         0\n",
              "label2                    510769\n",
              "label3                    510740\n",
              "label4                    510753\n",
              "label5                    512937\n",
              "dtype: int64"
            ]
          },
          "metadata": {
            "tags": []
          },
          "execution_count": 7
        }
      ]
    },
    {
      "cell_type": "markdown",
      "metadata": {
        "id": "4Gy2meomlv14"
      },
      "source": [
        "### Tokenize data"
      ]
    },
    {
      "cell_type": "code",
      "metadata": {
        "execution": {
          "iopub.status.busy": "2021-08-08T09:59:47.188677Z",
          "iopub.execute_input": "2021-08-08T09:59:47.188969Z",
          "iopub.status.idle": "2021-08-08T09:59:48.376204Z",
          "shell.execute_reply.started": "2021-08-08T09:59:47.188941Z",
          "shell.execute_reply": "2021-08-08T09:59:48.375301Z"
        },
        "trusted": true,
        "id": "1ZkIJ92vlFEi"
      },
      "source": [
        "tok = spacy.load('en')\n",
        "def tokenize (text):\n",
        "    text = re.sub(r\"[^\\x00-\\x7F]+\", \" \", text)\n",
        "    regex = re.compile('[' + re.escape(string.punctuation) + '0-9\\\\r\\\\t\\\\n]') # remove punctuation and numbers\n",
        "    nopunct = regex.sub(\" \", text.lower())\n",
        "    return [token.text for token in tok.tokenizer(nopunct)]"
      ],
      "execution_count": null,
      "outputs": []
    },
    {
      "cell_type": "code",
      "metadata": {
        "execution": {
          "iopub.status.busy": "2021-08-08T09:59:48.378144Z",
          "iopub.execute_input": "2021-08-08T09:59:48.378510Z",
          "iopub.status.idle": "2021-08-08T10:01:42.370501Z",
          "shell.execute_reply.started": "2021-08-08T09:59:48.378468Z",
          "shell.execute_reply": "2021-08-08T10:01:42.369651Z"
        },
        "trusted": true,
        "id": "ZKV2itW-lFEj"
      },
      "source": [
        "counts = Counter()\n",
        "for index, row in train.iterrows():\n",
        "    counts.update(tokenize(row['sentence1']+row['sentence2']))"
      ],
      "execution_count": null,
      "outputs": []
    },
    {
      "cell_type": "code",
      "metadata": {
        "execution": {
          "iopub.status.busy": "2021-08-08T10:01:42.371755Z",
          "iopub.execute_input": "2021-08-08T10:01:42.372114Z",
          "iopub.status.idle": "2021-08-08T10:01:42.397501Z",
          "shell.execute_reply.started": "2021-08-08T10:01:42.372079Z",
          "shell.execute_reply": "2021-08-08T10:01:42.396565Z"
        },
        "trusted": true,
        "id": "wczhoFAKlFEl",
        "outputId": "d69cb20e-bb5d-4d5a-9838-f8b0fd92463e"
      },
      "source": [
        "print(\"num_words before:\",len(counts.keys()))\n",
        "for word in list(counts):\n",
        "    if counts[word] < 2:\n",
        "        del counts[word]\n",
        "print(\"num_words after:\",len(counts.keys()))"
      ],
      "execution_count": null,
      "outputs": [
        {
          "output_type": "stream",
          "text": [
            "num_words before: 38910\n",
            "num_words after: 26602\n"
          ],
          "name": "stdout"
        }
      ]
    },
    {
      "cell_type": "code",
      "metadata": {
        "execution": {
          "iopub.status.busy": "2021-08-08T10:01:42.398725Z",
          "iopub.execute_input": "2021-08-08T10:01:42.399116Z",
          "iopub.status.idle": "2021-08-08T10:01:42.414242Z",
          "shell.execute_reply.started": "2021-08-08T10:01:42.399063Z",
          "shell.execute_reply": "2021-08-08T10:01:42.413317Z"
        },
        "trusted": true,
        "id": "cMLoLMzslFEl"
      },
      "source": [
        "vocab2index = {\"\":0, \"UNK\":1}\n",
        "words = [\"\", \"UNK\"]\n",
        "for word in counts:\n",
        "    vocab2index[word] = len(words)\n",
        "    words.append(word)"
      ],
      "execution_count": null,
      "outputs": []
    },
    {
      "cell_type": "code",
      "metadata": {
        "execution": {
          "iopub.status.busy": "2021-08-08T10:01:42.415600Z",
          "iopub.execute_input": "2021-08-08T10:01:42.415976Z",
          "iopub.status.idle": "2021-08-08T10:01:42.422844Z",
          "shell.execute_reply.started": "2021-08-08T10:01:42.415939Z",
          "shell.execute_reply": "2021-08-08T10:01:42.421956Z"
        },
        "trusted": true,
        "id": "JRr2cHSQlFEl"
      },
      "source": [
        "def encode_sentence(text, vocab2index, N=80):\n",
        "    tokenized = tokenize(text)\n",
        "    encoded = np.zeros(N, dtype=int)\n",
        "    enc1 = np.array([vocab2index.get(word, vocab2index[\"UNK\"]) for word in tokenized])\n",
        "    length = min(N, len(enc1))\n",
        "    encoded[:length] = enc1[:length]\n",
        "    return encoded, length"
      ],
      "execution_count": null,
      "outputs": []
    },
    {
      "cell_type": "code",
      "metadata": {
        "execution": {
          "iopub.status.busy": "2021-08-08T10:01:42.424486Z",
          "iopub.execute_input": "2021-08-08T10:01:42.424946Z",
          "iopub.status.idle": "2021-08-08T10:03:05.625067Z",
          "shell.execute_reply.started": "2021-08-08T10:01:42.424904Z",
          "shell.execute_reply": "2021-08-08T10:03:05.624304Z"
        },
        "trusted": true,
        "id": "Fu0SIT5JlFEm",
        "outputId": "f701023d-682a-4e60-a6da-fa64be1701cc"
      },
      "source": [
        "train['premi'] = train['sentence1'].apply(lambda x: np.array(encode_sentence(x,vocab2index )))\n",
        "train['hypo'] = train['sentence2'].apply(lambda x: np.array(encode_sentence(x,vocab2index )))\n",
        "valid['premi'] = valid['sentence1'].apply(lambda x: np.array(encode_sentence(x,vocab2index )))\n",
        "valid['hypo'] = valid['sentence2'].apply(lambda x: np.array(encode_sentence(x,vocab2index )))\n",
        "test['premi'] = test['sentence1'].apply(lambda x: np.array(encode_sentence(x,vocab2index )))\n",
        "test['hypo'] = test['sentence2'].apply(lambda x: np.array(encode_sentence(x,vocab2index )))\n",
        "train.head()"
      ],
      "execution_count": null,
      "outputs": [
        {
          "output_type": "stream",
          "text": [
            "/opt/conda/lib/python3.7/site-packages/ipykernel_launcher.py:1: VisibleDeprecationWarning: Creating an ndarray from ragged nested sequences (which is a list-or-tuple of lists-or-tuples-or ndarrays with different lengths or shapes) is deprecated. If you meant to do this, you must specify 'dtype=object' when creating the ndarray\n",
            "  \"\"\"Entry point for launching an IPython kernel.\n",
            "/opt/conda/lib/python3.7/site-packages/ipykernel_launcher.py:2: VisibleDeprecationWarning: Creating an ndarray from ragged nested sequences (which is a list-or-tuple of lists-or-tuples-or ndarrays with different lengths or shapes) is deprecated. If you meant to do this, you must specify 'dtype=object' when creating the ndarray\n",
            "  \n",
            "/opt/conda/lib/python3.7/site-packages/ipykernel_launcher.py:3: VisibleDeprecationWarning: Creating an ndarray from ragged nested sequences (which is a list-or-tuple of lists-or-tuples-or ndarrays with different lengths or shapes) is deprecated. If you meant to do this, you must specify 'dtype=object' when creating the ndarray\n",
            "  This is separate from the ipykernel package so we can avoid doing imports until\n",
            "/opt/conda/lib/python3.7/site-packages/ipykernel_launcher.py:4: VisibleDeprecationWarning: Creating an ndarray from ragged nested sequences (which is a list-or-tuple of lists-or-tuples-or ndarrays with different lengths or shapes) is deprecated. If you meant to do this, you must specify 'dtype=object' when creating the ndarray\n",
            "  after removing the cwd from sys.path.\n",
            "/opt/conda/lib/python3.7/site-packages/ipykernel_launcher.py:5: VisibleDeprecationWarning: Creating an ndarray from ragged nested sequences (which is a list-or-tuple of lists-or-tuples-or ndarrays with different lengths or shapes) is deprecated. If you meant to do this, you must specify 'dtype=object' when creating the ndarray\n",
            "  \"\"\"\n",
            "/opt/conda/lib/python3.7/site-packages/ipykernel_launcher.py:6: VisibleDeprecationWarning: Creating an ndarray from ragged nested sequences (which is a list-or-tuple of lists-or-tuples-or ndarrays with different lengths or shapes) is deprecated. If you meant to do this, you must specify 'dtype=object' when creating the ndarray\n",
            "  \n"
          ],
          "name": "stderr"
        },
        {
          "output_type": "execute_result",
          "data": {
            "text/plain": [
              "      gold_label                             sentence1_binary_parse  \\\n",
              "0        neutral  ( ( ( A person ) ( on ( a horse ) ) ) ( ( jump...   \n",
              "1  contradiction  ( ( ( A person ) ( on ( a horse ) ) ) ( ( jump...   \n",
              "2     entailment  ( ( ( A person ) ( on ( a horse ) ) ) ( ( jump...   \n",
              "3        neutral  ( Children ( ( ( smiling and ) waving ) ( at c...   \n",
              "4     entailment  ( Children ( ( ( smiling and ) waving ) ( at c...   \n",
              "\n",
              "                              sentence2_binary_parse  \\\n",
              "0  ( ( A person ) ( ( is ( ( training ( his horse...   \n",
              "1  ( ( A person ) ( ( ( ( is ( at ( a diner ) ) )...   \n",
              "2  ( ( A person ) ( ( ( ( is outdoors ) , ) ( on ...   \n",
              "3  ( They ( are ( smiling ( at ( their parents ) ...   \n",
              "4             ( There ( ( are children ) present ) )   \n",
              "\n",
              "                                     sentence1_parse  \\\n",
              "0  (ROOT (S (NP (NP (DT A) (NN person)) (PP (IN o...   \n",
              "1  (ROOT (S (NP (NP (DT A) (NN person)) (PP (IN o...   \n",
              "2  (ROOT (S (NP (NP (DT A) (NN person)) (PP (IN o...   \n",
              "3  (ROOT (NP (S (NP (NNP Children)) (VP (VBG smil...   \n",
              "4  (ROOT (NP (S (NP (NNP Children)) (VP (VBG smil...   \n",
              "\n",
              "                                     sentence2_parse  \\\n",
              "0  (ROOT (S (NP (DT A) (NN person)) (VP (VBZ is) ...   \n",
              "1  (ROOT (S (NP (DT A) (NN person)) (VP (VBZ is) ...   \n",
              "2  (ROOT (S (NP (DT A) (NN person)) (VP (VBZ is) ...   \n",
              "3  (ROOT (S (NP (PRP They)) (VP (VBP are) (VP (VB...   \n",
              "4  (ROOT (S (NP (EX There)) (VP (VBP are) (NP (NN...   \n",
              "\n",
              "                                           sentence1  \\\n",
              "0  A person on a horse jumps over a broken down a...   \n",
              "1  A person on a horse jumps over a broken down a...   \n",
              "2  A person on a horse jumps over a broken down a...   \n",
              "3              Children smiling and waving at camera   \n",
              "4              Children smiling and waving at camera   \n",
              "\n",
              "                                           sentence2         captionID  \\\n",
              "0  A person is training his horse for a competition.  3416050480.jpg#4   \n",
              "1      A person is at a diner, ordering an omelette.  3416050480.jpg#4   \n",
              "2                  A person is outdoors, on a horse.  3416050480.jpg#4   \n",
              "3                  They are smiling at their parents  2267923837.jpg#2   \n",
              "4                         There are children present  2267923837.jpg#2   \n",
              "\n",
              "                pairID         label1 label2 label3 label4 label5  \\\n",
              "0  3416050480.jpg#4r1n        neutral    NaN    NaN    NaN    NaN   \n",
              "1  3416050480.jpg#4r1c  contradiction    NaN    NaN    NaN    NaN   \n",
              "2  3416050480.jpg#4r1e     entailment    NaN    NaN    NaN    NaN   \n",
              "3  2267923837.jpg#2r1n        neutral    NaN    NaN    NaN    NaN   \n",
              "4  2267923837.jpg#2r1e     entailment    NaN    NaN    NaN    NaN   \n",
              "\n",
              "                                               premi  \\\n",
              "0  [[2, 3, 4, 2, 5, 6, 7, 2, 8, 9, 10, 0, 0, 0, 0...   \n",
              "1  [[2, 3, 4, 2, 5, 6, 7, 2, 8, 9, 10, 0, 0, 0, 0...   \n",
              "2  [[2, 3, 4, 2, 5, 6, 7, 2, 8, 9, 10, 0, 0, 0, 0...   \n",
              "3  [[23, 24, 25, 26, 16, 377, 0, 0, 0, 0, 0, 0, 0...   \n",
              "4  [[23, 24, 25, 26, 16, 377, 0, 0, 0, 0, 0, 0, 0...   \n",
              "\n",
              "                                                hypo  \n",
              "0  [[2, 3, 11, 12, 13, 5, 14, 2, 15, 0, 0, 0, 0, ...  \n",
              "1  [[2, 3, 11, 16, 2, 17, 18, 19, 20, 21, 0, 0, 0...  \n",
              "2  [[2, 3, 11, 22, 18, 4, 2, 5, 0, 0, 0, 0, 0, 0,...  \n",
              "3  [[213, 27, 24, 16, 28, 29, 0, 0, 0, 0, 0, 0, 0...  \n",
              "4  [[90, 27, 23, 31, 0, 0, 0, 0, 0, 0, 0, 0, 0, 0...  "
            ],
            "text/html": [
              "<div>\n",
              "<style scoped>\n",
              "    .dataframe tbody tr th:only-of-type {\n",
              "        vertical-align: middle;\n",
              "    }\n",
              "\n",
              "    .dataframe tbody tr th {\n",
              "        vertical-align: top;\n",
              "    }\n",
              "\n",
              "    .dataframe thead th {\n",
              "        text-align: right;\n",
              "    }\n",
              "</style>\n",
              "<table border=\"1\" class=\"dataframe\">\n",
              "  <thead>\n",
              "    <tr style=\"text-align: right;\">\n",
              "      <th></th>\n",
              "      <th>gold_label</th>\n",
              "      <th>sentence1_binary_parse</th>\n",
              "      <th>sentence2_binary_parse</th>\n",
              "      <th>sentence1_parse</th>\n",
              "      <th>sentence2_parse</th>\n",
              "      <th>sentence1</th>\n",
              "      <th>sentence2</th>\n",
              "      <th>captionID</th>\n",
              "      <th>pairID</th>\n",
              "      <th>label1</th>\n",
              "      <th>label2</th>\n",
              "      <th>label3</th>\n",
              "      <th>label4</th>\n",
              "      <th>label5</th>\n",
              "      <th>premi</th>\n",
              "      <th>hypo</th>\n",
              "    </tr>\n",
              "  </thead>\n",
              "  <tbody>\n",
              "    <tr>\n",
              "      <th>0</th>\n",
              "      <td>neutral</td>\n",
              "      <td>( ( ( A person ) ( on ( a horse ) ) ) ( ( jump...</td>\n",
              "      <td>( ( A person ) ( ( is ( ( training ( his horse...</td>\n",
              "      <td>(ROOT (S (NP (NP (DT A) (NN person)) (PP (IN o...</td>\n",
              "      <td>(ROOT (S (NP (DT A) (NN person)) (VP (VBZ is) ...</td>\n",
              "      <td>A person on a horse jumps over a broken down a...</td>\n",
              "      <td>A person is training his horse for a competition.</td>\n",
              "      <td>3416050480.jpg#4</td>\n",
              "      <td>3416050480.jpg#4r1n</td>\n",
              "      <td>neutral</td>\n",
              "      <td>NaN</td>\n",
              "      <td>NaN</td>\n",
              "      <td>NaN</td>\n",
              "      <td>NaN</td>\n",
              "      <td>[[2, 3, 4, 2, 5, 6, 7, 2, 8, 9, 10, 0, 0, 0, 0...</td>\n",
              "      <td>[[2, 3, 11, 12, 13, 5, 14, 2, 15, 0, 0, 0, 0, ...</td>\n",
              "    </tr>\n",
              "    <tr>\n",
              "      <th>1</th>\n",
              "      <td>contradiction</td>\n",
              "      <td>( ( ( A person ) ( on ( a horse ) ) ) ( ( jump...</td>\n",
              "      <td>( ( A person ) ( ( ( ( is ( at ( a diner ) ) )...</td>\n",
              "      <td>(ROOT (S (NP (NP (DT A) (NN person)) (PP (IN o...</td>\n",
              "      <td>(ROOT (S (NP (DT A) (NN person)) (VP (VBZ is) ...</td>\n",
              "      <td>A person on a horse jumps over a broken down a...</td>\n",
              "      <td>A person is at a diner, ordering an omelette.</td>\n",
              "      <td>3416050480.jpg#4</td>\n",
              "      <td>3416050480.jpg#4r1c</td>\n",
              "      <td>contradiction</td>\n",
              "      <td>NaN</td>\n",
              "      <td>NaN</td>\n",
              "      <td>NaN</td>\n",
              "      <td>NaN</td>\n",
              "      <td>[[2, 3, 4, 2, 5, 6, 7, 2, 8, 9, 10, 0, 0, 0, 0...</td>\n",
              "      <td>[[2, 3, 11, 16, 2, 17, 18, 19, 20, 21, 0, 0, 0...</td>\n",
              "    </tr>\n",
              "    <tr>\n",
              "      <th>2</th>\n",
              "      <td>entailment</td>\n",
              "      <td>( ( ( A person ) ( on ( a horse ) ) ) ( ( jump...</td>\n",
              "      <td>( ( A person ) ( ( ( ( is outdoors ) , ) ( on ...</td>\n",
              "      <td>(ROOT (S (NP (NP (DT A) (NN person)) (PP (IN o...</td>\n",
              "      <td>(ROOT (S (NP (DT A) (NN person)) (VP (VBZ is) ...</td>\n",
              "      <td>A person on a horse jumps over a broken down a...</td>\n",
              "      <td>A person is outdoors, on a horse.</td>\n",
              "      <td>3416050480.jpg#4</td>\n",
              "      <td>3416050480.jpg#4r1e</td>\n",
              "      <td>entailment</td>\n",
              "      <td>NaN</td>\n",
              "      <td>NaN</td>\n",
              "      <td>NaN</td>\n",
              "      <td>NaN</td>\n",
              "      <td>[[2, 3, 4, 2, 5, 6, 7, 2, 8, 9, 10, 0, 0, 0, 0...</td>\n",
              "      <td>[[2, 3, 11, 22, 18, 4, 2, 5, 0, 0, 0, 0, 0, 0,...</td>\n",
              "    </tr>\n",
              "    <tr>\n",
              "      <th>3</th>\n",
              "      <td>neutral</td>\n",
              "      <td>( Children ( ( ( smiling and ) waving ) ( at c...</td>\n",
              "      <td>( They ( are ( smiling ( at ( their parents ) ...</td>\n",
              "      <td>(ROOT (NP (S (NP (NNP Children)) (VP (VBG smil...</td>\n",
              "      <td>(ROOT (S (NP (PRP They)) (VP (VBP are) (VP (VB...</td>\n",
              "      <td>Children smiling and waving at camera</td>\n",
              "      <td>They are smiling at their parents</td>\n",
              "      <td>2267923837.jpg#2</td>\n",
              "      <td>2267923837.jpg#2r1n</td>\n",
              "      <td>neutral</td>\n",
              "      <td>NaN</td>\n",
              "      <td>NaN</td>\n",
              "      <td>NaN</td>\n",
              "      <td>NaN</td>\n",
              "      <td>[[23, 24, 25, 26, 16, 377, 0, 0, 0, 0, 0, 0, 0...</td>\n",
              "      <td>[[213, 27, 24, 16, 28, 29, 0, 0, 0, 0, 0, 0, 0...</td>\n",
              "    </tr>\n",
              "    <tr>\n",
              "      <th>4</th>\n",
              "      <td>entailment</td>\n",
              "      <td>( Children ( ( ( smiling and ) waving ) ( at c...</td>\n",
              "      <td>( There ( ( are children ) present ) )</td>\n",
              "      <td>(ROOT (NP (S (NP (NNP Children)) (VP (VBG smil...</td>\n",
              "      <td>(ROOT (S (NP (EX There)) (VP (VBP are) (NP (NN...</td>\n",
              "      <td>Children smiling and waving at camera</td>\n",
              "      <td>There are children present</td>\n",
              "      <td>2267923837.jpg#2</td>\n",
              "      <td>2267923837.jpg#2r1e</td>\n",
              "      <td>entailment</td>\n",
              "      <td>NaN</td>\n",
              "      <td>NaN</td>\n",
              "      <td>NaN</td>\n",
              "      <td>NaN</td>\n",
              "      <td>[[23, 24, 25, 26, 16, 377, 0, 0, 0, 0, 0, 0, 0...</td>\n",
              "      <td>[[90, 27, 23, 31, 0, 0, 0, 0, 0, 0, 0, 0, 0, 0...</td>\n",
              "    </tr>\n",
              "  </tbody>\n",
              "</table>\n",
              "</div>"
            ]
          },
          "metadata": {
            "tags": []
          },
          "execution_count": 13
        }
      ]
    },
    {
      "cell_type": "code",
      "metadata": {
        "execution": {
          "iopub.status.busy": "2021-08-08T10:03:05.626370Z",
          "iopub.execute_input": "2021-08-08T10:03:05.626719Z",
          "iopub.status.idle": "2021-08-08T10:03:06.064482Z",
          "shell.execute_reply.started": "2021-08-08T10:03:05.626682Z",
          "shell.execute_reply": "2021-08-08T10:03:06.063639Z"
        },
        "trusted": true,
        "id": "g01gudeWlFEm"
      },
      "source": [
        "numb = {'contradiction':0, 'neutral':1, 'entailment':2}\n",
        "train['gold_label'] = train['gold_label'].apply(lambda x: numb[x])\n",
        "valid['gold_label'] = valid['gold_label'].apply(lambda x: numb[x])\n",
        "test['gold_label'] = test['gold_label'].apply(lambda x: numb[x])"
      ],
      "execution_count": null,
      "outputs": []
    },
    {
      "cell_type": "code",
      "metadata": {
        "execution": {
          "iopub.status.busy": "2021-08-08T10:03:06.065732Z",
          "iopub.execute_input": "2021-08-08T10:03:06.066272Z",
          "iopub.status.idle": "2021-08-08T10:03:06.300739Z",
          "shell.execute_reply.started": "2021-08-08T10:03:06.066233Z",
          "shell.execute_reply": "2021-08-08T10:03:06.299916Z"
        },
        "trusted": true,
        "id": "o48ZnoRrlFEn"
      },
      "source": [
        "premi = list(train['premi'])\n",
        "hypo = list(train['hypo'])\n",
        "y_train = list(train['gold_label'])"
      ],
      "execution_count": null,
      "outputs": []
    },
    {
      "cell_type": "code",
      "metadata": {
        "execution": {
          "iopub.status.busy": "2021-08-08T10:03:06.302089Z",
          "iopub.execute_input": "2021-08-08T10:03:06.302459Z",
          "iopub.status.idle": "2021-08-08T10:03:06.311813Z",
          "shell.execute_reply.started": "2021-08-08T10:03:06.302421Z",
          "shell.execute_reply": "2021-08-08T10:03:06.310688Z"
        },
        "trusted": true,
        "id": "9PQaKaOflFEn"
      },
      "source": [
        "premi_val = list(valid['premi'])\n",
        "hypo_val = list(valid['hypo'])\n",
        "y_train_val = list(valid['gold_label'])"
      ],
      "execution_count": null,
      "outputs": []
    },
    {
      "cell_type": "code",
      "metadata": {
        "execution": {
          "iopub.status.busy": "2021-08-08T10:03:06.313183Z",
          "iopub.execute_input": "2021-08-08T10:03:06.313548Z",
          "iopub.status.idle": "2021-08-08T10:03:06.325213Z",
          "shell.execute_reply.started": "2021-08-08T10:03:06.313512Z",
          "shell.execute_reply": "2021-08-08T10:03:06.324306Z"
        },
        "trusted": true,
        "id": "6a8ixQmNlFEn"
      },
      "source": [
        "premi_test = list(test['premi'])\n",
        "hypo_test = list(test['hypo'])\n",
        "y_train_test = list(test['gold_label'])"
      ],
      "execution_count": null,
      "outputs": []
    },
    {
      "cell_type": "markdown",
      "metadata": {
        "id": "zhiTVdckl17q"
      },
      "source": [
        "### Load data into Datasets and then Dataloaders"
      ]
    },
    {
      "cell_type": "code",
      "metadata": {
        "execution": {
          "iopub.status.busy": "2021-08-08T10:03:06.326530Z",
          "iopub.execute_input": "2021-08-08T10:03:06.326929Z",
          "iopub.status.idle": "2021-08-08T10:03:06.335744Z",
          "shell.execute_reply.started": "2021-08-08T10:03:06.326893Z",
          "shell.execute_reply": "2021-08-08T10:03:06.334741Z"
        },
        "trusted": true,
        "id": "ztO0oKZVlFEn"
      },
      "source": [
        "class Ds(Dataset):\n",
        "    def __init__(self, X1,X2, Y):\n",
        "        self.X1 = X1\n",
        "        self.X2 = X2\n",
        "        self.y = Y\n",
        "        \n",
        "    def __len__(self):\n",
        "        return len(self.y)\n",
        "    \n",
        "    def __getitem__(self, idx):\n",
        "        return torch.from_numpy(self.X1[idx][0].astype(np.int32)),torch.from_numpy(self.X2[idx][0].astype(np.int32)), self.y[idx]"
      ],
      "execution_count": null,
      "outputs": []
    },
    {
      "cell_type": "code",
      "metadata": {
        "execution": {
          "iopub.status.busy": "2021-08-08T10:03:06.337195Z",
          "iopub.execute_input": "2021-08-08T10:03:06.337586Z",
          "iopub.status.idle": "2021-08-08T10:03:06.345002Z",
          "shell.execute_reply.started": "2021-08-08T10:03:06.337548Z",
          "shell.execute_reply": "2021-08-08T10:03:06.343912Z"
        },
        "trusted": true,
        "id": "WWplZvSQlFEo"
      },
      "source": [
        "train_ds = Ds(premi,hypo,y_train)\n",
        "val_ds = Ds(premi_val,hypo_val,y_train_val)\n",
        "test_ds = Ds(premi_test,hypo_test,y_train_test)"
      ],
      "execution_count": null,
      "outputs": []
    },
    {
      "cell_type": "code",
      "metadata": {
        "execution": {
          "iopub.status.busy": "2021-08-08T10:03:06.346348Z",
          "iopub.execute_input": "2021-08-08T10:03:06.346727Z",
          "iopub.status.idle": "2021-08-08T10:03:06.354261Z",
          "shell.execute_reply.started": "2021-08-08T10:03:06.346688Z",
          "shell.execute_reply": "2021-08-08T10:03:06.353365Z"
        },
        "trusted": true,
        "id": "t5Fxk4A_lFEo"
      },
      "source": [
        "train_dl = DataLoader(train_ds, batch_size=2048, shuffle=True)\n",
        "val_dl = DataLoader(val_ds, batch_size=2048, shuffle=True)\n",
        "test_dl = DataLoader(test_ds, batch_size=2048, shuffle=True)"
      ],
      "execution_count": null,
      "outputs": []
    },
    {
      "cell_type": "markdown",
      "metadata": {
        "id": "0h90ckkJl8K2"
      },
      "source": [
        "## Activating GPU"
      ]
    },
    {
      "cell_type": "code",
      "metadata": {
        "execution": {
          "iopub.status.busy": "2021-08-08T10:03:06.357024Z",
          "iopub.execute_input": "2021-08-08T10:03:06.357721Z",
          "iopub.status.idle": "2021-08-08T10:03:06.398248Z",
          "shell.execute_reply.started": "2021-08-08T10:03:06.357679Z",
          "shell.execute_reply": "2021-08-08T10:03:06.397231Z"
        },
        "trusted": true,
        "id": "IoQYnwrMlFEo"
      },
      "source": [
        "def get_default_device():\n",
        "    \"\"\"Pick GPU if available, else CPU\"\"\"\n",
        "    if torch.cuda.is_available():\n",
        "        return torch.device('cuda')\n",
        "    else:\n",
        "        return torch.device('cpu')\n",
        "    \n",
        "def to_device(data, device):\n",
        "    \"\"\"Move tensor(s) to chosen device\"\"\"\n",
        "    if isinstance(data, (list,tuple)):\n",
        "        return [to_device(x, device) for x in data]\n",
        "    return data.to(device, non_blocking=True)\n",
        "\n",
        "class DeviceDataLoader():\n",
        "    \"\"\"Wrap a dataloader to move data to a device\"\"\"\n",
        "    def __init__(self, dl, device):\n",
        "        self.dl = dl\n",
        "        self.device = device\n",
        "        \n",
        "    def __iter__(self):\n",
        "        \"\"\"Yield a batch of data after moving it to device\"\"\"\n",
        "        for b in self.dl: \n",
        "            yield to_device(b, self.device)\n",
        "\n",
        "    def __len__(self):\n",
        "        \"\"\"Number of batches\"\"\"\n",
        "        return len(self.dl)"
      ],
      "execution_count": null,
      "outputs": []
    },
    {
      "cell_type": "code",
      "metadata": {
        "execution": {
          "iopub.status.busy": "2021-08-08T10:03:06.399620Z",
          "iopub.execute_input": "2021-08-08T10:03:06.400034Z",
          "iopub.status.idle": "2021-08-08T10:03:06.455604Z",
          "shell.execute_reply.started": "2021-08-08T10:03:06.399992Z",
          "shell.execute_reply": "2021-08-08T10:03:06.454651Z"
        },
        "trusted": true,
        "id": "u5FoIMLVlFEp",
        "outputId": "417276a3-c061-4499-8e38-6a84a7dd7c47"
      },
      "source": [
        "device = get_default_device()\n",
        "device"
      ],
      "execution_count": null,
      "outputs": [
        {
          "output_type": "execute_result",
          "data": {
            "text/plain": [
              "device(type='cuda')"
            ]
          },
          "metadata": {
            "tags": []
          },
          "execution_count": 22
        }
      ]
    },
    {
      "cell_type": "markdown",
      "metadata": {
        "id": "8oEMwyPMmDOt"
      },
      "source": [
        "### Shifting DataLoaders to GPU"
      ]
    },
    {
      "cell_type": "code",
      "metadata": {
        "execution": {
          "iopub.status.busy": "2021-08-08T10:03:06.460517Z",
          "iopub.execute_input": "2021-08-08T10:03:06.460951Z",
          "iopub.status.idle": "2021-08-08T10:03:06.467561Z",
          "shell.execute_reply.started": "2021-08-08T10:03:06.460798Z",
          "shell.execute_reply": "2021-08-08T10:03:06.466652Z"
        },
        "trusted": true,
        "id": "nVgFgzDFlFEp"
      },
      "source": [
        "train_dl = DeviceDataLoader(train_dl, device)\n",
        "val_dl = DeviceDataLoader(val_dl, device)\n",
        "test_dl = DeviceDataLoader(test_dl, device)"
      ],
      "execution_count": null,
      "outputs": []
    },
    {
      "cell_type": "markdown",
      "metadata": {
        "id": "tvcSIQfdmKBQ"
      },
      "source": [
        "## Checking the shape of final data"
      ]
    },
    {
      "cell_type": "code",
      "metadata": {
        "execution": {
          "iopub.status.busy": "2021-08-08T10:03:06.469420Z",
          "iopub.execute_input": "2021-08-08T10:03:06.469791Z",
          "iopub.status.idle": "2021-08-08T10:03:11.163308Z",
          "shell.execute_reply.started": "2021-08-08T10:03:06.469753Z",
          "shell.execute_reply": "2021-08-08T10:03:11.161458Z"
        },
        "trusted": true,
        "id": "rR5JZOWAlFEq",
        "outputId": "e362ebef-1fac-4555-bbaf-88551d2398e1"
      },
      "source": [
        "for batch in train_dl:\n",
        "    a,b,c = batch\n",
        "    print(a.shape,b.shape,c)\n",
        "    break"
      ],
      "execution_count": null,
      "outputs": [
        {
          "output_type": "stream",
          "text": [
            "torch.Size([2048, 80]) torch.Size([2048, 80]) tensor([2, 0, 0,  ..., 1, 0, 1], device='cuda:0')\n"
          ],
          "name": "stdout"
        }
      ]
    },
    {
      "cell_type": "code",
      "metadata": {
        "execution": {
          "iopub.status.busy": "2021-08-08T10:03:11.164814Z",
          "iopub.execute_input": "2021-08-08T10:03:11.165214Z",
          "iopub.status.idle": "2021-08-08T10:03:11.173502Z",
          "shell.execute_reply.started": "2021-08-08T10:03:11.165173Z",
          "shell.execute_reply": "2021-08-08T10:03:11.172339Z"
        },
        "trusted": true,
        "id": "ebm94FpglFEq",
        "outputId": "83d8babf-1214-4fcf-87a1-8f6fdc41f196"
      },
      "source": [
        "vocab_size = len(words)\n",
        "vocab_size"
      ],
      "execution_count": null,
      "outputs": [
        {
          "output_type": "execute_result",
          "data": {
            "text/plain": [
              "26604"
            ]
          },
          "metadata": {
            "tags": []
          },
          "execution_count": 25
        }
      ]
    },
    {
      "cell_type": "markdown",
      "metadata": {
        "id": "2aCnucXGmNnx"
      },
      "source": [
        "## Building the model"
      ]
    },
    {
      "cell_type": "code",
      "metadata": {
        "execution": {
          "iopub.status.busy": "2021-08-08T10:58:48.112851Z",
          "iopub.execute_input": "2021-08-08T10:58:48.113193Z",
          "iopub.status.idle": "2021-08-08T10:58:48.124715Z",
          "shell.execute_reply.started": "2021-08-08T10:58:48.113164Z",
          "shell.execute_reply": "2021-08-08T10:58:48.123936Z"
        },
        "trusted": true,
        "id": "bbcKOyQ3lFEq"
      },
      "source": [
        "class Model(nn.Module) :\n",
        "    def __init__(self) :\n",
        "        super().__init__()\n",
        "        self.embeddings = nn.Embedding(vocab_size, 512, padding_idx=0)\n",
        "        self.trans = nn.Linear(512,128)\n",
        "        self.lstm = nn.LSTM(128, 128, batch_first=True,num_layers =2, bidirectional = True)\n",
        "        self.linear1 = nn.Linear(512, 1024)\n",
        "        self.linear2 = nn.Linear(1024, 256)\n",
        "        self.linear3 = nn.Linear(256, 64)\n",
        "        self.linear4 = nn.Linear(64, 16)\n",
        "        self.linear5 = nn.Linear(16, 3)\n",
        "        self.dropout = nn.Dropout(0.2)\n",
        "        self.out = nn.LogSoftmax(dim=1)\n",
        "        \n",
        "    def forward(self, x1, x2):\n",
        "        \n",
        "        x1 = self.embeddings(x1)\n",
        "        x1 = self.trans(x1)\n",
        "        x1 = self.dropout(x1)\n",
        "        _,(x1,_) = self.lstm(x1)\n",
        "        \n",
        "        x2 = self.embeddings(x2)\n",
        "        x2 = self.trans(x2)\n",
        "        x2 = self.dropout(x2)\n",
        "        _,(x2,_) = self.lstm(x2)\n",
        "        \n",
        "        x1 = torch.cat((x1[-1], x1[-2]), dim=-1)\n",
        "        x2 = torch.cat((x2[-1], x2[-2]), dim=-1)\n",
        "\n",
        "        combined = torch.cat((x1, x2), dim=1)\n",
        "        \n",
        "        combined = F.relu(self.linear1(combined))\n",
        "        combined = self.dropout(combined)\n",
        "        \n",
        "        combined = F.relu(self.linear2(combined))\n",
        "        combined = self.dropout(combined)\n",
        "        \n",
        "        combined = F.relu(self.linear3(combined))\n",
        "        combined = self.dropout(combined)\n",
        "        \n",
        "        combined = F.relu(self.linear4(combined))\n",
        "        combined = self.dropout(combined)\n",
        "        \n",
        "        combined = F.relu(self.linear5(combined))\n",
        "        combined = self.out(combined)\n",
        "        \n",
        "        return combined"
      ],
      "execution_count": null,
      "outputs": []
    },
    {
      "cell_type": "code",
      "metadata": {
        "execution": {
          "iopub.status.busy": "2021-08-08T10:58:48.298572Z",
          "iopub.execute_input": "2021-08-08T10:58:48.298840Z",
          "iopub.status.idle": "2021-08-08T10:58:48.474295Z",
          "shell.execute_reply.started": "2021-08-08T10:58:48.298814Z",
          "shell.execute_reply": "2021-08-08T10:58:48.473444Z"
        },
        "trusted": true,
        "id": "BXw0SjjMlFEr"
      },
      "source": [
        "model =  Model()\n",
        "model = to_device(model, device)"
      ],
      "execution_count": null,
      "outputs": []
    },
    {
      "cell_type": "code",
      "metadata": {
        "execution": {
          "iopub.status.busy": "2021-08-08T10:58:48.475898Z",
          "iopub.execute_input": "2021-08-08T10:58:48.476234Z",
          "iopub.status.idle": "2021-08-08T10:58:48.481857Z",
          "shell.execute_reply.started": "2021-08-08T10:58:48.476197Z",
          "shell.execute_reply": "2021-08-08T10:58:48.480869Z"
        },
        "trusted": true,
        "id": "EWKJ3b5jlFEr"
      },
      "source": [
        "criterion = nn.NLLLoss().to(device)\n",
        "parameters = filter(lambda p: p.requires_grad, model.parameters())\n",
        "optimizer = torch.optim.Adam(parameters, lr=0.0013)"
      ],
      "execution_count": null,
      "outputs": []
    },
    {
      "cell_type": "markdown",
      "metadata": {
        "id": "JeuTXmBUmUmQ"
      },
      "source": [
        "### Defining accuracy, evaluation and training functions"
      ]
    },
    {
      "cell_type": "code",
      "metadata": {
        "execution": {
          "iopub.status.busy": "2021-08-08T10:58:48.603951Z",
          "iopub.execute_input": "2021-08-08T10:58:48.604217Z",
          "iopub.status.idle": "2021-08-08T10:58:48.608972Z",
          "shell.execute_reply.started": "2021-08-08T10:58:48.604192Z",
          "shell.execute_reply": "2021-08-08T10:58:48.608030Z"
        },
        "trusted": true,
        "id": "fZBPwDmulFEr"
      },
      "source": [
        "def categorical_accuracy(preds, y):\n",
        "    \n",
        "    max_preds = preds.argmax(dim = 1, keepdim = True) # get the index of the max probability\n",
        "    correct = max_preds.squeeze(1).eq(y)\n",
        "    correct = correct.to('cpu')\n",
        "    y = y.to('cpu')\n",
        "    return correct.sum() / torch.FloatTensor([y.shape[0]])"
      ],
      "execution_count": null,
      "outputs": []
    },
    {
      "cell_type": "code",
      "metadata": {
        "execution": {
          "iopub.status.busy": "2021-08-08T10:58:48.775761Z",
          "iopub.execute_input": "2021-08-08T10:58:48.776076Z",
          "iopub.status.idle": "2021-08-08T10:58:48.782727Z",
          "shell.execute_reply.started": "2021-08-08T10:58:48.776050Z",
          "shell.execute_reply": "2021-08-08T10:58:48.781920Z"
        },
        "trusted": true,
        "id": "SC_aQN99lFEr"
      },
      "source": [
        "def evaluate(model, iterator, criterion):\n",
        "    \n",
        "    epoch_loss = 0\n",
        "    epoch_acc = 0\n",
        "    \n",
        "    model.eval()\n",
        "    \n",
        "    with torch.no_grad():\n",
        "    \n",
        "        for batch in iterator:\n",
        "\n",
        "            prem,hypo,labels = batch\n",
        "            prem = prem.long()\n",
        "            hypo = hypo.long()\n",
        "            labels = labels.long()\n",
        "        \n",
        "            predictions = model(prem, hypo)\n",
        "            \n",
        "            loss = criterion(predictions, labels)\n",
        "                \n",
        "            acc = categorical_accuracy(predictions, labels)\n",
        "            \n",
        "            epoch_loss += loss.item()\n",
        "            epoch_acc += acc.item()\n",
        "        \n",
        "    return epoch_loss / len(iterator), epoch_acc / len(iterator)"
      ],
      "execution_count": null,
      "outputs": []
    },
    {
      "cell_type": "code",
      "metadata": {
        "execution": {
          "iopub.status.busy": "2021-08-08T10:58:48.915161Z",
          "iopub.execute_input": "2021-08-08T10:58:48.915436Z",
          "iopub.status.idle": "2021-08-08T10:58:48.922541Z",
          "shell.execute_reply.started": "2021-08-08T10:58:48.915412Z",
          "shell.execute_reply": "2021-08-08T10:58:48.921620Z"
        },
        "trusted": true,
        "id": "TTOxkRWklFEr"
      },
      "source": [
        "def train(model, iterator, optimizer, criterion):\n",
        "    \n",
        "    epoch_loss = 0\n",
        "    epoch_acc = 0\n",
        "    \n",
        "    model.train()\n",
        "    \n",
        "    for batch in iterator:\n",
        "        \n",
        "        prem,hypo,labels = batch\n",
        "        prem = prem.long()\n",
        "        hypo = hypo.long()\n",
        "        labels = labels.long()\n",
        "        \n",
        "        optimizer.zero_grad()\n",
        "        \n",
        "        #prem = [prem sent len, batch size]\n",
        "        #hypo = [hypo sent len, batch size]\n",
        "        \n",
        "        predictions = model(prem, hypo)\n",
        "        \n",
        "        #predictions = [batch size, output dim]\n",
        "        #labels = [batch size]\n",
        "        \n",
        "        loss = criterion(predictions, labels)\n",
        "                \n",
        "        acc = categorical_accuracy(predictions, labels)\n",
        "        \n",
        "        loss.backward()\n",
        "        \n",
        "        optimizer.step()\n",
        "        \n",
        "        epoch_loss += loss.item()\n",
        "        epoch_acc += acc.item()\n",
        "        \n",
        "    return epoch_loss / len(iterator), epoch_acc / len(iterator)"
      ],
      "execution_count": null,
      "outputs": []
    },
    {
      "cell_type": "code",
      "metadata": {
        "execution": {
          "iopub.status.busy": "2021-08-08T10:58:49.246691Z",
          "iopub.execute_input": "2021-08-08T10:58:49.247017Z",
          "iopub.status.idle": "2021-08-08T10:58:49.251038Z",
          "shell.execute_reply.started": "2021-08-08T10:58:49.246988Z",
          "shell.execute_reply": "2021-08-08T10:58:49.250235Z"
        },
        "trusted": true,
        "id": "jBP0srSnlFEs"
      },
      "source": [
        "\n",
        "def epoch_time(start_time, end_time):\n",
        "    elapsed_time = end_time - start_time\n",
        "    elapsed_mins = int(elapsed_time / 60)\n",
        "    elapsed_secs = int(elapsed_time - (elapsed_mins * 60))\n",
        "    return elapsed_mins, elapsed_secs"
      ],
      "execution_count": null,
      "outputs": []
    },
    {
      "cell_type": "markdown",
      "metadata": {
        "id": "koLt6tUkmcQJ"
      },
      "source": [
        "### Training the model"
      ]
    },
    {
      "cell_type": "code",
      "metadata": {
        "execution": {
          "iopub.status.busy": "2021-08-08T10:58:49.570445Z",
          "iopub.execute_input": "2021-08-08T10:58:49.570763Z",
          "iopub.status.idle": "2021-08-08T11:18:08.108731Z",
          "shell.execute_reply.started": "2021-08-08T10:58:49.570734Z",
          "shell.execute_reply": "2021-08-08T11:18:08.107629Z"
        },
        "trusted": true,
        "id": "RvxAXbIclFEs",
        "outputId": "461ced66-d446-4a67-9e77-b8fedbf450c0"
      },
      "source": [
        "N_EPOCHS = 15\n",
        "\n",
        "tr_loss = []\n",
        "vl_loss = []\n",
        "tr_acc = []\n",
        "vl_acc = []\n",
        "\n",
        "best_valid_loss = float('inf')\n",
        "\n",
        "for epoch in range(N_EPOCHS):\n",
        "\n",
        "    start_time = time.time()\n",
        "    \n",
        "    train_loss, train_acc = train(model, train_dl, optimizer, criterion)\n",
        "    valid_loss, valid_acc = evaluate(model, val_dl, criterion)\n",
        "    \n",
        "    tr_loss.append(train_loss)\n",
        "    vl_loss.append(valid_loss)\n",
        "    tr_acc.append(train_acc)\n",
        "    vl_acc.append(valid_acc)\n",
        "    \n",
        "    end_time = time.time()\n",
        "\n",
        "    epoch_mins, epoch_secs = epoch_time(start_time, end_time)\n",
        "    \n",
        "    if valid_loss < best_valid_loss:\n",
        "        best_valid_loss = valid_loss\n",
        "        torch.save(model.state_dict(), 'tut1-model.pt')\n",
        "    \n",
        "    print(f'Epoch: {epoch+1:02} | Epoch Time: {epoch_mins}m {epoch_secs}s')\n",
        "    print(f'\\tTrain Loss: {train_loss:.3f} | Train Acc: {train_acc*100:.2f}%')\n",
        "    print(f'\\t Val. Loss: {valid_loss:.3f} |  Val. Acc: {valid_acc*100:.2f}%')\n",
        "    "
      ],
      "execution_count": null,
      "outputs": [
        {
          "output_type": "stream",
          "text": [
            "Epoch: 01 | Epoch Time: 1m 16s\n",
            "\tTrain Loss: 0.975 | Train Acc: 45.11%\n",
            "\t Val. Loss: 0.891 |  Val. Acc: 48.33%\n",
            "Epoch: 02 | Epoch Time: 1m 16s\n",
            "\tTrain Loss: 0.818 | Train Acc: 59.89%\n",
            "\t Val. Loss: 0.691 |  Val. Acc: 70.98%\n",
            "Epoch: 03 | Epoch Time: 1m 17s\n",
            "\tTrain Loss: 0.681 | Train Acc: 71.95%\n",
            "\t Val. Loss: 0.632 |  Val. Acc: 73.70%\n",
            "Epoch: 04 | Epoch Time: 1m 17s\n",
            "\tTrain Loss: 0.625 | Train Acc: 74.73%\n",
            "\t Val. Loss: 0.601 |  Val. Acc: 75.51%\n",
            "Epoch: 05 | Epoch Time: 1m 16s\n",
            "\tTrain Loss: 0.588 | Train Acc: 76.43%\n",
            "\t Val. Loss: 0.577 |  Val. Acc: 76.56%\n",
            "Epoch: 06 | Epoch Time: 1m 16s\n",
            "\tTrain Loss: 0.559 | Train Acc: 77.80%\n",
            "\t Val. Loss: 0.571 |  Val. Acc: 77.15%\n",
            "Epoch: 07 | Epoch Time: 1m 17s\n",
            "\tTrain Loss: 0.534 | Train Acc: 78.91%\n",
            "\t Val. Loss: 0.554 |  Val. Acc: 77.96%\n",
            "Epoch: 08 | Epoch Time: 1m 17s\n",
            "\tTrain Loss: 0.514 | Train Acc: 79.90%\n",
            "\t Val. Loss: 0.548 |  Val. Acc: 78.56%\n",
            "Epoch: 09 | Epoch Time: 1m 17s\n",
            "\tTrain Loss: 0.495 | Train Acc: 80.69%\n",
            "\t Val. Loss: 0.548 |  Val. Acc: 78.57%\n",
            "Epoch: 10 | Epoch Time: 1m 17s\n",
            "\tTrain Loss: 0.478 | Train Acc: 81.50%\n",
            "\t Val. Loss: 0.552 |  Val. Acc: 78.76%\n",
            "Epoch: 11 | Epoch Time: 1m 16s\n",
            "\tTrain Loss: 0.463 | Train Acc: 82.14%\n",
            "\t Val. Loss: 0.546 |  Val. Acc: 78.90%\n",
            "Epoch: 12 | Epoch Time: 1m 17s\n",
            "\tTrain Loss: 0.449 | Train Acc: 82.70%\n",
            "\t Val. Loss: 0.557 |  Val. Acc: 79.39%\n",
            "Epoch: 13 | Epoch Time: 1m 17s\n",
            "\tTrain Loss: 0.437 | Train Acc: 83.25%\n",
            "\t Val. Loss: 0.543 |  Val. Acc: 79.05%\n",
            "Epoch: 14 | Epoch Time: 1m 17s\n",
            "\tTrain Loss: 0.425 | Train Acc: 83.72%\n",
            "\t Val. Loss: 0.552 |  Val. Acc: 79.13%\n",
            "Epoch: 15 | Epoch Time: 1m 17s\n",
            "\tTrain Loss: 0.415 | Train Acc: 84.14%\n",
            "\t Val. Loss: 0.558 |  Val. Acc: 79.60%\n"
          ],
          "name": "stdout"
        }
      ]
    },
    {
      "cell_type": "code",
      "metadata": {
        "execution": {
          "iopub.status.busy": "2021-08-08T11:18:08.110512Z",
          "iopub.execute_input": "2021-08-08T11:18:08.110936Z",
          "iopub.status.idle": "2021-08-08T11:18:08.675168Z",
          "shell.execute_reply.started": "2021-08-08T11:18:08.110867Z",
          "shell.execute_reply": "2021-08-08T11:18:08.674248Z"
        },
        "trusted": true,
        "id": "LLXqy28FlFEt",
        "outputId": "71912bc7-82f1-4333-aa54-860fe575b82f"
      },
      "source": [
        "model.load_state_dict(torch.load('tut1-model.pt'))\n",
        "\n",
        "test_loss, test_acc = evaluate(model, test_dl, criterion)\n",
        "\n",
        "print(f'Test Loss: {test_loss:.3f} |  Test Acc: {test_acc*100:.2f}%')"
      ],
      "execution_count": null,
      "outputs": [
        {
          "output_type": "stream",
          "text": [
            "Test Loss: 0.548 |  Test Acc: 79.36%\n"
          ],
          "name": "stdout"
        }
      ]
    },
    {
      "cell_type": "code",
      "metadata": {
        "execution": {
          "iopub.status.busy": "2021-08-08T11:18:55.589612Z",
          "iopub.execute_input": "2021-08-08T11:18:55.589955Z",
          "iopub.status.idle": "2021-08-08T11:18:55.992611Z",
          "shell.execute_reply.started": "2021-08-08T11:18:55.589924Z",
          "shell.execute_reply": "2021-08-08T11:18:55.991498Z"
        },
        "trusted": true,
        "id": "SpoJINnflFEt",
        "outputId": "22a097b2-15de-4e6d-b61e-b13d11a5495c"
      },
      "source": [
        "plt.plot(tr_loss, label = \"Training loss\")\n",
        "plt.plot(vl_loss, label = \"Validation loss\")\n",
        "plt.legend()\n",
        "plt.show()\n",
        "\n",
        "plt.plot(tr_acc, label = \"Training accuracy\")\n",
        "plt.plot(vl_acc, label = \"Validation accuracy\")\n",
        "plt.legend()\n",
        "plt.show()"
      ],
      "execution_count": null,
      "outputs": [
        {
          "output_type": "display_data",
          "data": {
            "text/plain": [
              "<Figure size 432x288 with 1 Axes>"
            ],
            "image/png": "[encoded data removed]"
          },
          "metadata": {
            "tags": [],
            "needs_background": "light"
          }
        },
        {
          "output_type": "display_data",
          "data": {
            "text/plain": [
              "<Figure size 432x288 with 1 Axes>"
            ],
            "image/png": "[encoded data removed]"
          },
          "metadata": {
            "tags": [],
            "needs_background": "light"
          }
        }
      ]
    }
  ]
}