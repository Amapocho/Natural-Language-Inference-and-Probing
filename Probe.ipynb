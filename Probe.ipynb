{
  "nbformat": 4,
  "nbformat_minor": 0,
  "metadata": {
    "kernelspec": {
      "language": "python",
      "display_name": "Python 3",
      "name": "python3"
    },
    "language_info": {
      "name": "python",
      "version": "3.7.10",
      "mimetype": "text/x-python",
      "codemirror_mode": {
        "name": "ipython",
        "version": 3
      },
      "pygments_lexer": "ipython3",
      "nbconvert_exporter": "python",
      "file_extension": ".py"
    },
    "colab": {
      "name": "pytorch-nlp (1).ipynb",
      "provenance": []
    }
  },
  "cells": [
    {
      "cell_type": "markdown",
      "metadata": {
        "id": "AIfjr2L4kApN"
      },
      "source": [
        "#Probing"
      ]
    },
    {
      "cell_type": "markdown",
      "metadata": {
        "id": "ZmRAD_8dkEAi"
      },
      "source": [
        "## Import libraries"
      ]
    },
    {
      "cell_type": "code",
      "metadata": {
        "id": "57hWDXMMj_aF",
        "execution": {
          "iopub.status.busy": "2021-08-14T21:06:15.378209Z",
          "iopub.execute_input": "2021-08-14T21:06:15.378589Z",
          "iopub.status.idle": "2021-08-14T21:06:19.709231Z",
          "shell.execute_reply.started": "2021-08-14T21:06:15.378508Z",
          "shell.execute_reply": "2021-08-14T21:06:19.708438Z"
        },
        "trusted": true
      },
      "source": [
        "import numpy as np\n",
        "import pandas as pd\n",
        "import torch\n",
        "import torch.nn as nn\n",
        "import torch.nn.functional as F\n",
        "\n",
        "import spacy\n",
        "import re\n",
        "import string\n",
        "import time\n",
        "\n",
        "import nltk\n",
        "from nltk import Tree\n",
        "\n",
        "from collections import Counter\n",
        "from torch.utils.data import Dataset, DataLoader\n",
        "import matplotlib.pyplot as plt"
      ],
      "execution_count": null,
      "outputs": []
    },
    {
      "cell_type": "code",
      "metadata": {
        "id": "c0gYaE5Nj_aK",
        "execution": {
          "iopub.status.busy": "2021-08-14T21:06:19.712508Z",
          "iopub.execute_input": "2021-08-14T21:06:19.712767Z",
          "iopub.status.idle": "2021-08-14T21:06:31.904427Z",
          "shell.execute_reply.started": "2021-08-14T21:06:19.712743Z",
          "shell.execute_reply": "2021-08-14T21:06:31.903505Z"
        },
        "trusted": true,
        "outputId": "45e6ca55-a8b4-4528-da80-50a1f8e62b2a"
      },
      "source": [
        "!python -m spacy download en"
      ],
      "execution_count": null,
      "outputs": [
        {
          "output_type": "stream",
          "text": [
            "Collecting en_core_web_sm==2.3.1\n",
            "  Downloading https://github.com/explosion/spacy-models/releases/download/en_core_web_sm-2.3.1/en_core_web_sm-2.3.1.tar.gz (12.0 MB)\n",
            "\u001b[K     |████████████████████████████████| 12.0 MB 15.1 MB/s eta 0:00:01\n",
            "\u001b[?25hRequirement already satisfied: spacy<2.4.0,>=2.3.0 in /opt/conda/lib/python3.7/site-packages (from en_core_web_sm==2.3.1) (2.3.7)\n",
            "Requirement already satisfied: requests<3.0.0,>=2.13.0 in /opt/conda/lib/python3.7/site-packages (from spacy<2.4.0,>=2.3.0->en_core_web_sm==2.3.1) (2.25.1)\n",
            "Requirement already satisfied: preshed<3.1.0,>=3.0.2 in /opt/conda/lib/python3.7/site-packages (from spacy<2.4.0,>=2.3.0->en_core_web_sm==2.3.1) (3.0.5)\n",
            "Requirement already satisfied: blis<0.8.0,>=0.4.0 in /opt/conda/lib/python3.7/site-packages (from spacy<2.4.0,>=2.3.0->en_core_web_sm==2.3.1) (0.7.4)\n",
            "Requirement already satisfied: plac<1.2.0,>=0.9.6 in /opt/conda/lib/python3.7/site-packages (from spacy<2.4.0,>=2.3.0->en_core_web_sm==2.3.1) (1.1.3)\n",
            "Requirement already satisfied: murmurhash<1.1.0,>=0.28.0 in /opt/conda/lib/python3.7/site-packages (from spacy<2.4.0,>=2.3.0->en_core_web_sm==2.3.1) (1.0.5)\n",
            "Requirement already satisfied: tqdm<5.0.0,>=4.38.0 in /opt/conda/lib/python3.7/site-packages (from spacy<2.4.0,>=2.3.0->en_core_web_sm==2.3.1) (4.61.1)\n",
            "Requirement already satisfied: cymem<2.1.0,>=2.0.2 in /opt/conda/lib/python3.7/site-packages (from spacy<2.4.0,>=2.3.0->en_core_web_sm==2.3.1) (2.0.5)\n",
            "Requirement already satisfied: srsly<1.1.0,>=1.0.2 in /opt/conda/lib/python3.7/site-packages (from spacy<2.4.0,>=2.3.0->en_core_web_sm==2.3.1) (1.0.5)\n",
            "Requirement already satisfied: catalogue<1.1.0,>=0.0.7 in /opt/conda/lib/python3.7/site-packages (from spacy<2.4.0,>=2.3.0->en_core_web_sm==2.3.1) (1.0.0)\n",
            "Requirement already satisfied: numpy>=1.15.0 in /opt/conda/lib/python3.7/site-packages (from spacy<2.4.0,>=2.3.0->en_core_web_sm==2.3.1) (1.19.5)\n",
            "Requirement already satisfied: setuptools in /opt/conda/lib/python3.7/site-packages (from spacy<2.4.0,>=2.3.0->en_core_web_sm==2.3.1) (49.6.0.post20210108)\n",
            "Requirement already satisfied: wasabi<1.1.0,>=0.4.0 in /opt/conda/lib/python3.7/site-packages (from spacy<2.4.0,>=2.3.0->en_core_web_sm==2.3.1) (0.8.2)\n",
            "Requirement already satisfied: thinc<7.5.0,>=7.4.1 in /opt/conda/lib/python3.7/site-packages (from spacy<2.4.0,>=2.3.0->en_core_web_sm==2.3.1) (7.4.5)\n",
            "Requirement already satisfied: importlib-metadata>=0.20 in /opt/conda/lib/python3.7/site-packages (from catalogue<1.1.0,>=0.0.7->spacy<2.4.0,>=2.3.0->en_core_web_sm==2.3.1) (3.4.0)\n",
            "Requirement already satisfied: zipp>=0.5 in /opt/conda/lib/python3.7/site-packages (from importlib-metadata>=0.20->catalogue<1.1.0,>=0.0.7->spacy<2.4.0,>=2.3.0->en_core_web_sm==2.3.1) (3.4.1)\n",
            "Requirement already satisfied: typing-extensions>=3.6.4 in /opt/conda/lib/python3.7/site-packages (from importlib-metadata>=0.20->catalogue<1.1.0,>=0.0.7->spacy<2.4.0,>=2.3.0->en_core_web_sm==2.3.1) (3.7.4.3)\n",
            "Requirement already satisfied: chardet<5,>=3.0.2 in /opt/conda/lib/python3.7/site-packages (from requests<3.0.0,>=2.13.0->spacy<2.4.0,>=2.3.0->en_core_web_sm==2.3.1) (4.0.0)\n",
            "Requirement already satisfied: certifi>=2017.4.17 in /opt/conda/lib/python3.7/site-packages (from requests<3.0.0,>=2.13.0->spacy<2.4.0,>=2.3.0->en_core_web_sm==2.3.1) (2021.5.30)\n",
            "Requirement already satisfied: idna<3,>=2.5 in /opt/conda/lib/python3.7/site-packages (from requests<3.0.0,>=2.13.0->spacy<2.4.0,>=2.3.0->en_core_web_sm==2.3.1) (2.10)\n",
            "Requirement already satisfied: urllib3<1.27,>=1.21.1 in /opt/conda/lib/python3.7/site-packages (from requests<3.0.0,>=2.13.0->spacy<2.4.0,>=2.3.0->en_core_web_sm==2.3.1) (1.26.5)\n",
            "\u001b[33mWARNING: Running pip as root will break packages and permissions. You should install packages reliably by using venv: https://pip.pypa.io/warnings/venv\u001b[0m\n",
            "\u001b[38;5;2m✔ Download and installation successful\u001b[0m\n",
            "You can now load the model via spacy.load('en_core_web_sm')\n",
            "\u001b[38;5;2m✔ Linking successful\u001b[0m\n",
            "/opt/conda/lib/python3.7/site-packages/en_core_web_sm -->\n",
            "/opt/conda/lib/python3.7/site-packages/spacy/data/en\n",
            "You can now load the model via spacy.load('en')\n"
          ],
          "name": "stdout"
        }
      ]
    },
    {
      "cell_type": "markdown",
      "metadata": {
        "id": "3VfP5OULm5uB"
      },
      "source": [
        "## Set random seed"
      ]
    },
    {
      "cell_type": "code",
      "metadata": {
        "id": "Q04sjGmoj_aJ",
        "execution": {
          "iopub.status.busy": "2021-08-14T21:06:31.907979Z",
          "iopub.execute_input": "2021-08-14T21:06:31.908248Z",
          "iopub.status.idle": "2021-08-14T21:06:31.916463Z",
          "shell.execute_reply.started": "2021-08-14T21:06:31.908218Z",
          "shell.execute_reply": "2021-08-14T21:06:31.915665Z"
        },
        "trusted": true
      },
      "source": [
        "SEED = 1\n",
        "\n",
        "np.random.seed(SEED)\n",
        "torch.manual_seed(SEED)\n",
        "torch.backends.cudnn.deterministic = True"
      ],
      "execution_count": null,
      "outputs": []
    },
    {
      "cell_type": "markdown",
      "metadata": {
        "id": "0obJjCbWnBfJ"
      },
      "source": [
        "## Preprocess data"
      ]
    },
    {
      "cell_type": "markdown",
      "metadata": {
        "id": "H7AxJZtdnE-X"
      },
      "source": [
        "### Import data"
      ]
    },
    {
      "cell_type": "code",
      "metadata": {
        "id": "_PbQRs7ej_aM",
        "execution": {
          "iopub.status.busy": "2021-08-14T21:06:31.918243Z",
          "iopub.execute_input": "2021-08-14T21:06:31.918683Z",
          "iopub.status.idle": "2021-08-14T21:06:39.570280Z",
          "shell.execute_reply.started": "2021-08-14T21:06:31.918657Z",
          "shell.execute_reply": "2021-08-14T21:06:39.569480Z"
        },
        "trusted": true
      },
      "source": [
        "tr = pd.read_csv('../input/stanford-natural-language-inference-corpus/snli_1.0_train.csv')\n",
        "test = pd.read_csv('../input/stanford-natural-language-inference-corpus/snli_1.0_test.csv')\n",
        "valid = pd.read_csv('../input/stanford-natural-language-inference-corpus/snli_1.0_dev.csv')"
      ],
      "execution_count": null,
      "outputs": []
    },
    {
      "cell_type": "markdown",
      "metadata": {
        "id": "M_SouWbYnIVh"
      },
      "source": [
        "### Remove null data points"
      ]
    },
    {
      "cell_type": "code",
      "metadata": {
        "id": "OOcHLranj_aN",
        "execution": {
          "iopub.status.busy": "2021-08-14T21:06:39.571607Z",
          "iopub.execute_input": "2021-08-14T21:06:39.571963Z",
          "iopub.status.idle": "2021-08-14T21:06:40.140747Z",
          "shell.execute_reply.started": "2021-08-14T21:06:39.571926Z",
          "shell.execute_reply": "2021-08-14T21:06:40.139956Z"
        },
        "trusted": true,
        "outputId": "549cfc95-ceaf-4c15-b53d-a07ce1f9e753"
      },
      "source": [
        "tr.isnull().sum()"
      ],
      "execution_count": null,
      "outputs": [
        {
          "output_type": "execute_result",
          "data": {
            "text/plain": [
              "gold_label                     0\n",
              "sentence1_binary_parse         0\n",
              "sentence2_binary_parse         6\n",
              "sentence1_parse                0\n",
              "sentence2_parse                0\n",
              "sentence1                      0\n",
              "sentence2                      6\n",
              "captionID                      0\n",
              "pairID                         0\n",
              "label1                         0\n",
              "label2                    510782\n",
              "label3                    510757\n",
              "label4                    510769\n",
              "label5                    513238\n",
              "dtype: int64"
            ]
          },
          "metadata": {
            "tags": []
          },
          "execution_count": 5
        }
      ]
    },
    {
      "cell_type": "code",
      "metadata": {
        "id": "k6YyVzBRj_aN",
        "execution": {
          "iopub.status.busy": "2021-08-14T21:06:40.143363Z",
          "iopub.execute_input": "2021-08-14T21:06:40.143639Z",
          "iopub.status.idle": "2021-08-14T21:06:40.575848Z",
          "shell.execute_reply.started": "2021-08-14T21:06:40.143613Z",
          "shell.execute_reply": "2021-08-14T21:06:40.574978Z"
        },
        "trusted": true
      },
      "source": [
        "tr = tr.dropna(subset = ['sentence2'])\n",
        "tr = tr[tr[\"gold_label\"] != \"-\"]\n",
        "test = test[test[\"gold_label\"] != \"-\"]\n",
        "valid = valid[valid[\"gold_label\"] != \"-\"]"
      ],
      "execution_count": null,
      "outputs": []
    },
    {
      "cell_type": "code",
      "metadata": {
        "id": "IfcMjAlTj_aO",
        "execution": {
          "iopub.status.busy": "2021-08-14T21:06:40.577052Z",
          "iopub.execute_input": "2021-08-14T21:06:40.577376Z",
          "iopub.status.idle": "2021-08-14T21:06:41.275812Z",
          "shell.execute_reply.started": "2021-08-14T21:06:40.577342Z",
          "shell.execute_reply": "2021-08-14T21:06:41.272809Z"
        },
        "trusted": true,
        "outputId": "e0f8e245-f6a5-447d-c0e9-290acce6fef5"
      },
      "source": [
        "tr.isnull().sum()"
      ],
      "execution_count": null,
      "outputs": [
        {
          "output_type": "execute_result",
          "data": {
            "text/plain": [
              "gold_label                     0\n",
              "sentence1_binary_parse         0\n",
              "sentence2_binary_parse         0\n",
              "sentence1_parse                0\n",
              "sentence2_parse                0\n",
              "sentence1                      0\n",
              "sentence2                      0\n",
              "captionID                      0\n",
              "pairID                         0\n",
              "label1                         0\n",
              "label2                    510769\n",
              "label3                    510740\n",
              "label4                    510753\n",
              "label5                    512937\n",
              "dtype: int64"
            ]
          },
          "metadata": {
            "tags": []
          },
          "execution_count": 7
        }
      ]
    },
    {
      "cell_type": "markdown",
      "metadata": {
        "id": "rVhWd_pUnNRm"
      },
      "source": [
        "### Train tokenizer"
      ]
    },
    {
      "cell_type": "code",
      "metadata": {
        "id": "_Ffj0iWNj_aP",
        "execution": {
          "iopub.status.busy": "2021-08-14T21:06:41.281522Z",
          "iopub.execute_input": "2021-08-14T21:06:41.283730Z",
          "iopub.status.idle": "2021-08-14T21:06:42.419890Z",
          "shell.execute_reply.started": "2021-08-14T21:06:41.283687Z",
          "shell.execute_reply": "2021-08-14T21:06:42.418983Z"
        },
        "trusted": true
      },
      "source": [
        "tok = spacy.load('en')\n",
        "def tokenize (text):\n",
        "    text = re.sub(r\"[^\\x00-\\x7F]+\", \" \", text)\n",
        "    regex = re.compile('[' + re.escape(string.punctuation) + '0-9\\\\r\\\\t\\\\n]') # remove punctuation and numbers\n",
        "    nopunct = regex.sub(\" \", text.lower())\n",
        "    return [token.text for token in tok.tokenizer(nopunct)]"
      ],
      "execution_count": null,
      "outputs": []
    },
    {
      "cell_type": "code",
      "metadata": {
        "id": "cA6NqFVcj_aQ",
        "execution": {
          "iopub.status.busy": "2021-08-14T21:06:42.421795Z",
          "iopub.execute_input": "2021-08-14T21:06:42.422142Z",
          "iopub.status.idle": "2021-08-14T21:08:37.256723Z",
          "shell.execute_reply.started": "2021-08-14T21:06:42.422106Z",
          "shell.execute_reply": "2021-08-14T21:08:37.255819Z"
        },
        "trusted": true
      },
      "source": [
        "counts = Counter()\n",
        "for index, row in tr.iterrows():\n",
        "    counts.update(tokenize(row['sentence1']+row['sentence2']))"
      ],
      "execution_count": null,
      "outputs": []
    },
    {
      "cell_type": "code",
      "metadata": {
        "id": "dB2Xm-m0j_aR",
        "execution": {
          "iopub.status.busy": "2021-08-14T21:08:37.257989Z",
          "iopub.execute_input": "2021-08-14T21:08:37.258313Z",
          "iopub.status.idle": "2021-08-14T21:08:37.283216Z",
          "shell.execute_reply.started": "2021-08-14T21:08:37.258280Z",
          "shell.execute_reply": "2021-08-14T21:08:37.282324Z"
        },
        "trusted": true,
        "outputId": "828a0dd3-111e-455e-9945-bfe9c669b3ff"
      },
      "source": [
        "print(\"num_words before:\",len(counts.keys()))\n",
        "for word in list(counts):\n",
        "    if counts[word] < 2:\n",
        "        del counts[word]\n",
        "print(\"num_words after:\",len(counts.keys()))"
      ],
      "execution_count": null,
      "outputs": [
        {
          "output_type": "stream",
          "text": [
            "num_words before: 38910\n",
            "num_words after: 26602\n"
          ],
          "name": "stdout"
        }
      ]
    },
    {
      "cell_type": "code",
      "metadata": {
        "id": "1dwcqBG9j_aS",
        "execution": {
          "iopub.status.busy": "2021-08-14T21:08:37.284476Z",
          "iopub.execute_input": "2021-08-14T21:08:37.284851Z",
          "iopub.status.idle": "2021-08-14T21:08:37.305887Z",
          "shell.execute_reply.started": "2021-08-14T21:08:37.284809Z",
          "shell.execute_reply": "2021-08-14T21:08:37.304885Z"
        },
        "trusted": true
      },
      "source": [
        "vocab2index = {\"\":0, \"UNK\":1}\n",
        "words = [\"\", \"UNK\"]\n",
        "for word in counts:\n",
        "    vocab2index[word] = len(words)\n",
        "    words.append(word)"
      ],
      "execution_count": null,
      "outputs": []
    },
    {
      "cell_type": "code",
      "metadata": {
        "id": "JwsXHewNj_aS",
        "execution": {
          "iopub.status.busy": "2021-08-14T21:08:37.307183Z",
          "iopub.execute_input": "2021-08-14T21:08:37.307698Z",
          "iopub.status.idle": "2021-08-14T21:08:37.316372Z",
          "shell.execute_reply.started": "2021-08-14T21:08:37.307655Z",
          "shell.execute_reply": "2021-08-14T21:08:37.315015Z"
        },
        "trusted": true
      },
      "source": [
        "def encode_sentence(text, vocab2index, N=80):\n",
        "    tokenized = tokenize(text)\n",
        "    encoded = np.zeros(N, dtype=int)\n",
        "    enc1 = np.array([vocab2index.get(word, vocab2index[\"UNK\"]) for word in tokenized])\n",
        "    length = min(N, len(enc1))\n",
        "    encoded[:length] = enc1[:length]\n",
        "    return encoded, length"
      ],
      "execution_count": null,
      "outputs": []
    },
    {
      "cell_type": "code",
      "metadata": {
        "id": "hEKZjZWKj_aU",
        "execution": {
          "iopub.status.busy": "2021-08-14T21:08:37.317860Z",
          "iopub.execute_input": "2021-08-14T21:08:37.318278Z",
          "iopub.status.idle": "2021-08-14T21:08:37.327725Z",
          "shell.execute_reply.started": "2021-08-14T21:08:37.318237Z",
          "shell.execute_reply": "2021-08-14T21:08:37.326660Z"
        },
        "trusted": true,
        "outputId": "2daf23cb-1a00-464e-c3c2-2bfcf0befda8"
      },
      "source": [
        "vocab_size = len(words)\n",
        "vocab_size"
      ],
      "execution_count": null,
      "outputs": [
        {
          "output_type": "execute_result",
          "data": {
            "text/plain": [
              "26604"
            ]
          },
          "metadata": {
            "tags": []
          },
          "execution_count": 13
        }
      ]
    },
    {
      "cell_type": "markdown",
      "metadata": {
        "id": "ejuZX7i7pKwj"
      },
      "source": [
        "### Process and then encode over the parsed sentence"
      ]
    },
    {
      "cell_type": "markdown",
      "metadata": {
        "id": "BkfgcxIVpUck"
      },
      "source": [
        "#### Iterate over the parsed tree to extract words and POS tags"
      ]
    },
    {
      "cell_type": "code",
      "metadata": {
        "id": "CvejuzfOj_aW",
        "execution": {
          "iopub.status.busy": "2021-08-14T21:08:37.329165Z",
          "iopub.execute_input": "2021-08-14T21:08:37.330031Z",
          "iopub.status.idle": "2021-08-14T21:08:37.337025Z",
          "shell.execute_reply.started": "2021-08-14T21:08:37.329991Z",
          "shell.execute_reply": "2021-08-14T21:08:37.335917Z"
        },
        "trusted": true
      },
      "source": [
        "def encode_parse(tree,tag,word):\n",
        "    for subtree in tree:\n",
        "        if (type(subtree) == nltk.tree.Tree):\n",
        "            encode_parse(subtree,tag,word)\n",
        "        else:\n",
        "            enc = (str(tree))\n",
        "            pos = int(enc.find(' '))\n",
        "            tag.append(enc[1:pos])\n",
        "            word.append(str(subtree))"
      ],
      "execution_count": null,
      "outputs": []
    },
    {
      "cell_type": "code",
      "metadata": {
        "id": "3DdS3rpYj_aW",
        "execution": {
          "iopub.status.busy": "2021-08-14T21:08:37.338472Z",
          "iopub.execute_input": "2021-08-14T21:08:37.338825Z",
          "iopub.status.idle": "2021-08-14T21:11:14.954464Z",
          "shell.execute_reply.started": "2021-08-14T21:08:37.338789Z",
          "shell.execute_reply": "2021-08-14T21:11:14.953453Z"
        },
        "trusted": true
      },
      "source": [
        "tags_train=[]\n",
        "words2_train=[]\n",
        "for parse in tr['sentence1_parse']:\n",
        "    tree = Tree.fromstring(parse)\n",
        "    tag = []\n",
        "    word = []\n",
        "    encode_parse(tree,tag,word)\n",
        "    tag.pop()\n",
        "    word.pop()\n",
        "    tags_train.append(tag)\n",
        "    words2_train.append(word)\n",
        "for parse in tr['sentence2_parse']:\n",
        "    tree = Tree.fromstring(parse)\n",
        "    tag = []\n",
        "    word = []\n",
        "    encode_parse(tree,tag,word)\n",
        "    tag.pop()\n",
        "    word.pop()\n",
        "    tags_train.append(tag)\n",
        "    words2_train.append(word)"
      ],
      "execution_count": null,
      "outputs": []
    },
    {
      "cell_type": "code",
      "metadata": {
        "id": "bvqeGY48j_aW",
        "execution": {
          "iopub.status.busy": "2021-08-14T21:11:14.955795Z",
          "iopub.execute_input": "2021-08-14T21:11:14.956294Z",
          "iopub.status.idle": "2021-08-14T21:11:17.865978Z",
          "shell.execute_reply.started": "2021-08-14T21:11:14.956253Z",
          "shell.execute_reply": "2021-08-14T21:11:17.865104Z"
        },
        "trusted": true
      },
      "source": [
        "tags_test=[]\n",
        "words2_test=[]\n",
        "for parse in test['sentence1_parse']:\n",
        "    tree = Tree.fromstring(parse)\n",
        "    tag = []\n",
        "    word = []\n",
        "    encode_parse(tree,tag,word)\n",
        "    tag.pop()\n",
        "    word.pop()\n",
        "    tags_test.append(tag)\n",
        "    words2_test.append(word)\n",
        "for parse in test['sentence2_parse']:\n",
        "    tree = Tree.fromstring(parse)\n",
        "    tag = []\n",
        "    word = []\n",
        "    encode_parse(tree,tag,word)\n",
        "    tag.pop()\n",
        "    word.pop()\n",
        "    tags_test.append(tag)\n",
        "    words2_test.append(word)"
      ],
      "execution_count": null,
      "outputs": []
    },
    {
      "cell_type": "code",
      "metadata": {
        "id": "1z2FgsTIj_aX",
        "execution": {
          "iopub.status.busy": "2021-08-14T21:11:17.867259Z",
          "iopub.execute_input": "2021-08-14T21:11:17.867645Z",
          "iopub.status.idle": "2021-08-14T21:12:20.051287Z",
          "shell.execute_reply.started": "2021-08-14T21:11:17.867609Z",
          "shell.execute_reply": "2021-08-14T21:12:20.050466Z"
        },
        "trusted": true
      },
      "source": [
        "tags_valid=[]\n",
        "words2_valid=[]\n",
        "for parse in valid['sentence1_parse']:\n",
        "    tree = Tree.fromstring(parse)\n",
        "    tag = []\n",
        "    word = []\n",
        "    encode_parse(tree,tag,word)\n",
        "    tag.pop()\n",
        "    word.pop()\n",
        "    tags_valid.append(tag)\n",
        "    words2_valid.append(word)\n",
        "for parse in tr['sentence2_parse']:\n",
        "    tree = Tree.fromstring(parse)\n",
        "    tag = []\n",
        "    word = []\n",
        "    encode_parse(tree,tag,word)\n",
        "    tag.pop()\n",
        "    word.pop()\n",
        "    tags_valid.append(tag)\n",
        "    words2_valid.append(word)"
      ],
      "execution_count": null,
      "outputs": []
    },
    {
      "cell_type": "markdown",
      "metadata": {
        "id": "oOCT-Oemph09"
      },
      "source": [
        "#### Check length of words and tags"
      ]
    },
    {
      "cell_type": "code",
      "metadata": {
        "id": "DB9ZC5EMj_aX",
        "execution": {
          "iopub.status.busy": "2021-08-14T21:12:20.052635Z",
          "iopub.execute_input": "2021-08-14T21:12:20.052982Z",
          "iopub.status.idle": "2021-08-14T21:12:20.431913Z",
          "shell.execute_reply.started": "2021-08-14T21:12:20.052945Z",
          "shell.execute_reply": "2021-08-14T21:12:20.431075Z"
        },
        "trusted": true,
        "outputId": "18367a14-bd19-4a8d-f389-993e82447fb3"
      },
      "source": [
        "s=0\n",
        "for i in tags_train:\n",
        "    s+=len(i)\n",
        "print (\"Train =\", s)\n",
        "\n",
        "s=0\n",
        "for i in tags_test:\n",
        "    s+=len(i)\n",
        "print (\"Test =\", s)\n",
        "\n",
        "s=0\n",
        "for i in tags_valid:\n",
        "    s+=len(i)\n",
        "print (\"Valid =\", s)"
      ],
      "execution_count": null,
      "outputs": [
        {
          "output_type": "stream",
          "text": [
            "Train = 11142026\n",
            "Test = 210937\n",
            "Valid = 4123538\n"
          ],
          "name": "stdout"
        }
      ]
    },
    {
      "cell_type": "code",
      "metadata": {
        "id": "5e3UF00mj_aX",
        "execution": {
          "iopub.status.busy": "2021-08-14T21:12:20.433140Z",
          "iopub.execute_input": "2021-08-14T21:12:20.433648Z",
          "iopub.status.idle": "2021-08-14T21:12:20.811546Z",
          "shell.execute_reply.started": "2021-08-14T21:12:20.433609Z",
          "shell.execute_reply": "2021-08-14T21:12:20.810700Z"
        },
        "trusted": true,
        "outputId": "77707734-4f57-4f8a-c5ec-49a7d225444f"
      },
      "source": [
        "s=0\n",
        "for i in words2_train:\n",
        "    s+=len(i)\n",
        "print (\"Train =\", s)\n",
        "\n",
        "s=0\n",
        "for i in words2_test:\n",
        "    s+=len(i)\n",
        "print (\"Train =\", s)\n",
        "\n",
        "s=0\n",
        "for i in words2_valid:\n",
        "    s+=len(i)\n",
        "print (\"Train =\", s)"
      ],
      "execution_count": null,
      "outputs": [
        {
          "output_type": "stream",
          "text": [
            "Train = 11142026\n",
            "Train = 210937\n",
            "Train = 4123538\n"
          ],
          "name": "stdout"
        }
      ]
    },
    {
      "cell_type": "markdown",
      "metadata": {
        "id": "FDH7uk58pmMj"
      },
      "source": [
        "#### Join words and tags into strings and put them in dataframes"
      ]
    },
    {
      "cell_type": "code",
      "metadata": {
        "id": "CW40xXcFj_aY",
        "execution": {
          "iopub.status.busy": "2021-08-14T21:12:20.812773Z",
          "iopub.execute_input": "2021-08-14T21:12:20.813267Z",
          "iopub.status.idle": "2021-08-14T21:12:21.651035Z",
          "shell.execute_reply.started": "2021-08-14T21:12:20.813230Z",
          "shell.execute_reply": "2021-08-14T21:12:21.650082Z"
        },
        "trusted": true
      },
      "source": [
        "sentence_train = [' '.join(i) for i in words2_train]\n",
        "sentence_test = [' '.join(i) for i in words2_test]\n",
        "sentence_valid = [' '.join(i) for i in words2_valid]"
      ],
      "execution_count": null,
      "outputs": []
    },
    {
      "cell_type": "code",
      "metadata": {
        "id": "sCdIiGTgj_aY",
        "execution": {
          "iopub.status.busy": "2021-08-14T21:12:21.652341Z",
          "iopub.execute_input": "2021-08-14T21:12:21.652927Z",
          "iopub.status.idle": "2021-08-14T21:12:22.669812Z",
          "shell.execute_reply.started": "2021-08-14T21:12:21.652886Z",
          "shell.execute_reply": "2021-08-14T21:12:22.668824Z"
        },
        "trusted": true
      },
      "source": [
        "tag_string_train = [' '.join(i) for i in tags_train]\n",
        "tag_string_test = [' '.join(i) for i in tags_test]\n",
        "tag_string_valid = [' '.join(i) for i in tags_valid]"
      ],
      "execution_count": null,
      "outputs": []
    },
    {
      "cell_type": "code",
      "metadata": {
        "id": "7eH7FkW8j_aY",
        "execution": {
          "iopub.status.busy": "2021-08-14T21:12:22.671129Z",
          "iopub.execute_input": "2021-08-14T21:12:22.671525Z",
          "iopub.status.idle": "2021-08-14T21:12:22.821379Z",
          "shell.execute_reply.started": "2021-08-14T21:12:22.671487Z",
          "shell.execute_reply": "2021-08-14T21:12:22.820470Z"
        },
        "trusted": true
      },
      "source": [
        "train_probe = pd.DataFrame(sentence_train, columns =['Sentence'])\n",
        "test_probe = pd.DataFrame(sentence_test, columns =['Sentence'])\n",
        "valid_probe = pd.DataFrame(sentence_valid, columns =['Sentence'])"
      ],
      "execution_count": null,
      "outputs": []
    },
    {
      "cell_type": "code",
      "metadata": {
        "id": "IcLKPnHqj_aY",
        "execution": {
          "iopub.status.busy": "2021-08-14T21:12:22.826362Z",
          "iopub.execute_input": "2021-08-14T21:12:22.826644Z",
          "iopub.status.idle": "2021-08-14T21:12:22.867652Z",
          "shell.execute_reply.started": "2021-08-14T21:12:22.826619Z",
          "shell.execute_reply": "2021-08-14T21:12:22.866708Z"
        },
        "trusted": true,
        "outputId": "a6c01268-356d-4f79-f674-e25bf147fcc4"
      },
      "source": [
        "train_probe.head()"
      ],
      "execution_count": null,
      "outputs": [
        {
          "output_type": "execute_result",
          "data": {
            "text/plain": [
              "                                            Sentence\n",
              "0  A person on a horse jumps over a broken down a...\n",
              "1  A person on a horse jumps over a broken down a...\n",
              "2  A person on a horse jumps over a broken down a...\n",
              "3                     Children smiling and waving at\n",
              "4                     Children smiling and waving at"
            ],
            "text/html": [
              "<div>\n",
              "<style scoped>\n",
              "    .dataframe tbody tr th:only-of-type {\n",
              "        vertical-align: middle;\n",
              "    }\n",
              "\n",
              "    .dataframe tbody tr th {\n",
              "        vertical-align: top;\n",
              "    }\n",
              "\n",
              "    .dataframe thead th {\n",
              "        text-align: right;\n",
              "    }\n",
              "</style>\n",
              "<table border=\"1\" class=\"dataframe\">\n",
              "  <thead>\n",
              "    <tr style=\"text-align: right;\">\n",
              "      <th></th>\n",
              "      <th>Sentence</th>\n",
              "    </tr>\n",
              "  </thead>\n",
              "  <tbody>\n",
              "    <tr>\n",
              "      <th>0</th>\n",
              "      <td>A person on a horse jumps over a broken down a...</td>\n",
              "    </tr>\n",
              "    <tr>\n",
              "      <th>1</th>\n",
              "      <td>A person on a horse jumps over a broken down a...</td>\n",
              "    </tr>\n",
              "    <tr>\n",
              "      <th>2</th>\n",
              "      <td>A person on a horse jumps over a broken down a...</td>\n",
              "    </tr>\n",
              "    <tr>\n",
              "      <th>3</th>\n",
              "      <td>Children smiling and waving at</td>\n",
              "    </tr>\n",
              "    <tr>\n",
              "      <th>4</th>\n",
              "      <td>Children smiling and waving at</td>\n",
              "    </tr>\n",
              "  </tbody>\n",
              "</table>\n",
              "</div>"
            ]
          },
          "metadata": {
            "tags": []
          },
          "execution_count": 23
        }
      ]
    },
    {
      "cell_type": "markdown",
      "metadata": {
        "id": "E39hl0TbsQCA"
      },
      "source": [
        "#### Tokenize words using previously trained tokenizer"
      ]
    },
    {
      "cell_type": "code",
      "metadata": {
        "id": "xbrphaeHj_aZ",
        "execution": {
          "iopub.status.busy": "2021-08-14T21:12:22.872501Z",
          "iopub.execute_input": "2021-08-14T21:12:22.872844Z",
          "iopub.status.idle": "2021-08-14T21:14:09.759762Z",
          "shell.execute_reply.started": "2021-08-14T21:12:22.872810Z",
          "shell.execute_reply": "2021-08-14T21:14:09.758871Z"
        },
        "trusted": true,
        "outputId": "3ebcbe6f-7a3f-4cae-8f3f-99d9b8fbeba8"
      },
      "source": [
        "train_probe['enc'] = train_probe['Sentence'].apply(lambda x: np.array(encode_sentence(x,vocab2index )))\n",
        "test_probe['enc'] = test_probe['Sentence'].apply(lambda x: np.array(encode_sentence(x,vocab2index )))\n",
        "valid_probe['enc'] = valid_probe['Sentence'].apply(lambda x: np.array(encode_sentence(x,vocab2index )))"
      ],
      "execution_count": null,
      "outputs": [
        {
          "output_type": "stream",
          "text": [
            "/opt/conda/lib/python3.7/site-packages/ipykernel_launcher.py:1: VisibleDeprecationWarning: Creating an ndarray from ragged nested sequences (which is a list-or-tuple of lists-or-tuples-or ndarrays with different lengths or shapes) is deprecated. If you meant to do this, you must specify 'dtype=object' when creating the ndarray\n",
            "  \"\"\"Entry point for launching an IPython kernel.\n",
            "/opt/conda/lib/python3.7/site-packages/ipykernel_launcher.py:2: VisibleDeprecationWarning: Creating an ndarray from ragged nested sequences (which is a list-or-tuple of lists-or-tuples-or ndarrays with different lengths or shapes) is deprecated. If you meant to do this, you must specify 'dtype=object' when creating the ndarray\n",
            "  \n",
            "/opt/conda/lib/python3.7/site-packages/ipykernel_launcher.py:3: VisibleDeprecationWarning: Creating an ndarray from ragged nested sequences (which is a list-or-tuple of lists-or-tuples-or ndarrays with different lengths or shapes) is deprecated. If you meant to do this, you must specify 'dtype=object' when creating the ndarray\n",
            "  This is separate from the ipykernel package so we can avoid doing imports until\n"
          ],
          "name": "stderr"
        }
      ]
    },
    {
      "cell_type": "markdown",
      "metadata": {
        "id": "aJKy4LuEsXIS"
      },
      "source": [
        "#### Train tokenizer and tokenize tags"
      ]
    },
    {
      "cell_type": "code",
      "metadata": {
        "id": "s7f_X5ifj_aZ",
        "execution": {
          "iopub.status.busy": "2021-08-14T21:14:09.761030Z",
          "iopub.execute_input": "2021-08-14T21:14:09.761346Z",
          "iopub.status.idle": "2021-08-14T21:14:09.892576Z",
          "shell.execute_reply.started": "2021-08-14T21:14:09.761313Z",
          "shell.execute_reply": "2021-08-14T21:14:09.891741Z"
        },
        "trusted": true
      },
      "source": [
        "train_probe['tags'] = tag_string_train\n",
        "test_probe['tags'] = tag_string_test\n",
        "valid_probe['tags'] = tag_string_valid"
      ],
      "execution_count": null,
      "outputs": []
    },
    {
      "cell_type": "code",
      "metadata": {
        "id": "_RSio5Vrj_aZ",
        "execution": {
          "iopub.status.busy": "2021-08-14T21:14:09.893840Z",
          "iopub.execute_input": "2021-08-14T21:14:09.894345Z",
          "iopub.status.idle": "2021-08-14T21:18:49.675286Z",
          "shell.execute_reply.started": "2021-08-14T21:14:09.894304Z",
          "shell.execute_reply": "2021-08-14T21:18:49.674402Z"
        },
        "trusted": true
      },
      "source": [
        "countstag = Counter()\n",
        "for index, row in train_probe.iterrows():\n",
        "    countstag.update(tokenize(row['tags']))"
      ],
      "execution_count": null,
      "outputs": []
    },
    {
      "cell_type": "code",
      "metadata": {
        "id": "cuLm8htvj_aZ",
        "execution": {
          "iopub.status.busy": "2021-08-14T21:18:49.676721Z",
          "iopub.execute_input": "2021-08-14T21:18:49.677111Z",
          "iopub.status.idle": "2021-08-14T21:18:49.683684Z",
          "shell.execute_reply.started": "2021-08-14T21:18:49.677073Z",
          "shell.execute_reply": "2021-08-14T21:18:49.681301Z"
        },
        "trusted": true
      },
      "source": [
        "vocab2indextag = {\"\":0, \"UNK\":1}\n",
        "wordstag = [\"\", \"UNK\"]\n",
        "for word in countstag:\n",
        "    vocab2indextag[word] = len(wordstag)\n",
        "    wordstag.append(word)"
      ],
      "execution_count": null,
      "outputs": []
    },
    {
      "cell_type": "code",
      "metadata": {
        "id": "UeWmm4rij_ac",
        "execution": {
          "iopub.status.busy": "2021-08-14T21:18:49.685057Z",
          "iopub.execute_input": "2021-08-14T21:18:49.685467Z",
          "iopub.status.idle": "2021-08-14T21:18:49.694837Z",
          "shell.execute_reply.started": "2021-08-14T21:18:49.685430Z",
          "shell.execute_reply": "2021-08-14T21:18:49.693734Z"
        },
        "trusted": true,
        "outputId": "0b377bb3-e21c-4c80-e806-16efdc1ac92f"
      },
      "source": [
        "tag_length = len(wordstag)\n",
        "tag_length"
      ],
      "execution_count": null,
      "outputs": [
        {
          "output_type": "execute_result",
          "data": {
            "text/plain": [
              "45"
            ]
          },
          "metadata": {
            "tags": []
          },
          "execution_count": 28
        }
      ]
    },
    {
      "cell_type": "code",
      "metadata": {
        "id": "R63NAQ57j_aa",
        "execution": {
          "iopub.status.busy": "2021-08-14T21:18:49.696088Z",
          "iopub.execute_input": "2021-08-14T21:18:49.696509Z",
          "iopub.status.idle": "2021-08-14T21:23:12.553379Z",
          "shell.execute_reply.started": "2021-08-14T21:18:49.696469Z",
          "shell.execute_reply": "2021-08-14T21:23:12.552466Z"
        },
        "trusted": true,
        "outputId": "4b8cded2-52ee-4ab6-9bf2-88dd2dbcbf6b"
      },
      "source": [
        "train_probe['tag_enc'] = train_probe['tags'].apply(lambda x: np.array(encode_sentence(x,vocab2indextag )))\n",
        "test_probe['tag_enc'] = test_probe['tags'].apply(lambda x: np.array(encode_sentence(x,vocab2indextag )))\n",
        "valid_probe['tag_enc'] = valid_probe['tags'].apply(lambda x: np.array(encode_sentence(x,vocab2indextag )))"
      ],
      "execution_count": null,
      "outputs": [
        {
          "output_type": "stream",
          "text": [
            "/opt/conda/lib/python3.7/site-packages/ipykernel_launcher.py:1: VisibleDeprecationWarning: Creating an ndarray from ragged nested sequences (which is a list-or-tuple of lists-or-tuples-or ndarrays with different lengths or shapes) is deprecated. If you meant to do this, you must specify 'dtype=object' when creating the ndarray\n",
            "  \"\"\"Entry point for launching an IPython kernel.\n",
            "/opt/conda/lib/python3.7/site-packages/ipykernel_launcher.py:2: VisibleDeprecationWarning: Creating an ndarray from ragged nested sequences (which is a list-or-tuple of lists-or-tuples-or ndarrays with different lengths or shapes) is deprecated. If you meant to do this, you must specify 'dtype=object' when creating the ndarray\n",
            "  \n",
            "/opt/conda/lib/python3.7/site-packages/ipykernel_launcher.py:3: VisibleDeprecationWarning: Creating an ndarray from ragged nested sequences (which is a list-or-tuple of lists-or-tuples-or ndarrays with different lengths or shapes) is deprecated. If you meant to do this, you must specify 'dtype=object' when creating the ndarray\n",
            "  This is separate from the ipykernel package so we can avoid doing imports until\n"
          ],
          "name": "stderr"
        }
      ]
    },
    {
      "cell_type": "code",
      "metadata": {
        "id": "mHF2nX4Nj_aa",
        "execution": {
          "iopub.status.busy": "2021-08-14T21:23:12.554647Z",
          "iopub.execute_input": "2021-08-14T21:23:12.554976Z",
          "iopub.status.idle": "2021-08-14T21:23:12.585912Z",
          "shell.execute_reply.started": "2021-08-14T21:23:12.554942Z",
          "shell.execute_reply": "2021-08-14T21:23:12.584882Z"
        },
        "trusted": true,
        "outputId": "e271762f-03bb-482e-c9cd-6bb7b26bf223"
      },
      "source": [
        "train_probe.head()"
      ],
      "execution_count": null,
      "outputs": [
        {
          "output_type": "execute_result",
          "data": {
            "text/plain": [
              "                                            Sentence  \\\n",
              "0  A person on a horse jumps over a broken down a...   \n",
              "1  A person on a horse jumps over a broken down a...   \n",
              "2  A person on a horse jumps over a broken down a...   \n",
              "3                     Children smiling and waving at   \n",
              "4                     Children smiling and waving at   \n",
              "\n",
              "                                                 enc  \\\n",
              "0  [[2, 3, 4, 2, 5, 6, 7, 2, 8, 9, 10, 0, 0, 0, 0...   \n",
              "1  [[2, 3, 4, 2, 5, 6, 7, 2, 8, 9, 10, 0, 0, 0, 0...   \n",
              "2  [[2, 3, 4, 2, 5, 6, 7, 2, 8, 9, 10, 0, 0, 0, 0...   \n",
              "3  [[23, 24, 25, 26, 16, 0, 0, 0, 0, 0, 0, 0, 0, ...   \n",
              "4  [[23, 24, 25, 26, 16, 0, 0, 0, 0, 0, 0, 0, 0, ...   \n",
              "\n",
              "                                tags  \\\n",
              "0  DT NN IN DT NN VBZ IN DT JJ JJ NN   \n",
              "1  DT NN IN DT NN VBZ IN DT JJ JJ NN   \n",
              "2  DT NN IN DT NN VBZ IN DT JJ JJ NN   \n",
              "3                  NNP VBG CC VBG IN   \n",
              "4                  NNP VBG CC VBG IN   \n",
              "\n",
              "                                             tag_enc  \n",
              "0  [[2, 3, 4, 2, 3, 5, 4, 2, 6, 6, 3, 0, 0, 0, 0,...  \n",
              "1  [[2, 3, 4, 2, 3, 5, 4, 2, 6, 6, 3, 0, 0, 0, 0,...  \n",
              "2  [[2, 3, 4, 2, 3, 5, 4, 2, 6, 6, 3, 0, 0, 0, 0,...  \n",
              "3  [[7, 8, 9, 8, 4, 0, 0, 0, 0, 0, 0, 0, 0, 0, 0,...  \n",
              "4  [[7, 8, 9, 8, 4, 0, 0, 0, 0, 0, 0, 0, 0, 0, 0,...  "
            ],
            "text/html": [
              "<div>\n",
              "<style scoped>\n",
              "    .dataframe tbody tr th:only-of-type {\n",
              "        vertical-align: middle;\n",
              "    }\n",
              "\n",
              "    .dataframe tbody tr th {\n",
              "        vertical-align: top;\n",
              "    }\n",
              "\n",
              "    .dataframe thead th {\n",
              "        text-align: right;\n",
              "    }\n",
              "</style>\n",
              "<table border=\"1\" class=\"dataframe\">\n",
              "  <thead>\n",
              "    <tr style=\"text-align: right;\">\n",
              "      <th></th>\n",
              "      <th>Sentence</th>\n",
              "      <th>enc</th>\n",
              "      <th>tags</th>\n",
              "      <th>tag_enc</th>\n",
              "    </tr>\n",
              "  </thead>\n",
              "  <tbody>\n",
              "    <tr>\n",
              "      <th>0</th>\n",
              "      <td>A person on a horse jumps over a broken down a...</td>\n",
              "      <td>[[2, 3, 4, 2, 5, 6, 7, 2, 8, 9, 10, 0, 0, 0, 0...</td>\n",
              "      <td>DT NN IN DT NN VBZ IN DT JJ JJ NN</td>\n",
              "      <td>[[2, 3, 4, 2, 3, 5, 4, 2, 6, 6, 3, 0, 0, 0, 0,...</td>\n",
              "    </tr>\n",
              "    <tr>\n",
              "      <th>1</th>\n",
              "      <td>A person on a horse jumps over a broken down a...</td>\n",
              "      <td>[[2, 3, 4, 2, 5, 6, 7, 2, 8, 9, 10, 0, 0, 0, 0...</td>\n",
              "      <td>DT NN IN DT NN VBZ IN DT JJ JJ NN</td>\n",
              "      <td>[[2, 3, 4, 2, 3, 5, 4, 2, 6, 6, 3, 0, 0, 0, 0,...</td>\n",
              "    </tr>\n",
              "    <tr>\n",
              "      <th>2</th>\n",
              "      <td>A person on a horse jumps over a broken down a...</td>\n",
              "      <td>[[2, 3, 4, 2, 5, 6, 7, 2, 8, 9, 10, 0, 0, 0, 0...</td>\n",
              "      <td>DT NN IN DT NN VBZ IN DT JJ JJ NN</td>\n",
              "      <td>[[2, 3, 4, 2, 3, 5, 4, 2, 6, 6, 3, 0, 0, 0, 0,...</td>\n",
              "    </tr>\n",
              "    <tr>\n",
              "      <th>3</th>\n",
              "      <td>Children smiling and waving at</td>\n",
              "      <td>[[23, 24, 25, 26, 16, 0, 0, 0, 0, 0, 0, 0, 0, ...</td>\n",
              "      <td>NNP VBG CC VBG IN</td>\n",
              "      <td>[[7, 8, 9, 8, 4, 0, 0, 0, 0, 0, 0, 0, 0, 0, 0,...</td>\n",
              "    </tr>\n",
              "    <tr>\n",
              "      <th>4</th>\n",
              "      <td>Children smiling and waving at</td>\n",
              "      <td>[[23, 24, 25, 26, 16, 0, 0, 0, 0, 0, 0, 0, 0, ...</td>\n",
              "      <td>NNP VBG CC VBG IN</td>\n",
              "      <td>[[7, 8, 9, 8, 4, 0, 0, 0, 0, 0, 0, 0, 0, 0, 0,...</td>\n",
              "    </tr>\n",
              "  </tbody>\n",
              "</table>\n",
              "</div>"
            ]
          },
          "metadata": {
            "tags": []
          },
          "execution_count": 30
        }
      ]
    },
    {
      "cell_type": "code",
      "metadata": {
        "id": "l689qh0Ij_aa",
        "execution": {
          "iopub.status.busy": "2021-08-14T21:23:12.587221Z",
          "iopub.execute_input": "2021-08-14T21:23:12.587601Z",
          "iopub.status.idle": "2021-08-14T21:23:13.225339Z",
          "shell.execute_reply.started": "2021-08-14T21:23:12.587565Z",
          "shell.execute_reply": "2021-08-14T21:23:13.224507Z"
        },
        "trusted": true
      },
      "source": [
        "tag_enc_train = []\n",
        "for i in train_probe['tag_enc']:\n",
        "    tag_enc_train.append(i[0])\n",
        "    \n",
        "tag_enc_test = []\n",
        "for i in test_probe['tag_enc']:\n",
        "    tag_enc_test.append(i[0])\n",
        "    \n",
        "tag_enc_valid = []\n",
        "for i in valid_probe['tag_enc']:\n",
        "    tag_enc_valid.append(i[0])"
      ],
      "execution_count": null,
      "outputs": []
    },
    {
      "cell_type": "markdown",
      "metadata": {
        "id": "17Q67gcSsgqd"
      },
      "source": [
        "## Prepare Datasets and load them into Dataloaders"
      ]
    },
    {
      "cell_type": "code",
      "metadata": {
        "id": "giXJKlejj_aa",
        "execution": {
          "iopub.status.busy": "2021-08-14T21:23:13.226692Z",
          "iopub.execute_input": "2021-08-14T21:23:13.227044Z",
          "iopub.status.idle": "2021-08-14T21:23:13.233318Z",
          "shell.execute_reply.started": "2021-08-14T21:23:13.227004Z",
          "shell.execute_reply": "2021-08-14T21:23:13.232280Z"
        },
        "trusted": true
      },
      "source": [
        "class ProbeDataset(Dataset):\n",
        "    def __init__(self, X1, Y):\n",
        "        self.X1 = X1\n",
        "        self.y = Y\n",
        "        \n",
        "    def __len__(self):\n",
        "        return len(self.y)\n",
        "    \n",
        "    def __getitem__(self, idx):\n",
        "        return torch.from_numpy(self.X1[idx][0].astype(np.int32)), self.y[idx]"
      ],
      "execution_count": null,
      "outputs": []
    },
    {
      "cell_type": "code",
      "metadata": {
        "id": "T6jOfwrdj_aa",
        "execution": {
          "iopub.status.busy": "2021-08-14T21:23:13.234593Z",
          "iopub.execute_input": "2021-08-14T21:23:13.235082Z",
          "iopub.status.idle": "2021-08-14T21:23:13.244743Z",
          "shell.execute_reply.started": "2021-08-14T21:23:13.235045Z",
          "shell.execute_reply": "2021-08-14T21:23:13.243746Z"
        },
        "trusted": true
      },
      "source": [
        "train_probe_ds = ProbeDataset(train_probe['enc'],tag_enc_train)\n",
        "test_probe_ds = ProbeDataset(test_probe['enc'],tag_enc_test)\n",
        "valid_probe_ds = ProbeDataset(valid_probe['enc'],tag_enc_valid)"
      ],
      "execution_count": null,
      "outputs": []
    },
    {
      "cell_type": "code",
      "metadata": {
        "id": "QE-ox6w0j_ab",
        "execution": {
          "iopub.status.busy": "2021-08-14T21:23:13.246129Z",
          "iopub.execute_input": "2021-08-14T21:23:13.246593Z",
          "iopub.status.idle": "2021-08-14T21:23:13.258645Z",
          "shell.execute_reply.started": "2021-08-14T21:23:13.246554Z",
          "shell.execute_reply": "2021-08-14T21:23:13.257709Z"
        },
        "trusted": true,
        "outputId": "bffaf52c-bb8c-480b-fe9f-793f0abba9c4"
      },
      "source": [
        "len(test_probe)"
      ],
      "execution_count": null,
      "outputs": [
        {
          "output_type": "execute_result",
          "data": {
            "text/plain": [
              "19648"
            ]
          },
          "metadata": {
            "tags": []
          },
          "execution_count": 34
        }
      ]
    },
    {
      "cell_type": "code",
      "metadata": {
        "id": "fwyT-QMAj_ab",
        "execution": {
          "iopub.status.busy": "2021-08-14T21:27:54.127524Z",
          "iopub.execute_input": "2021-08-14T21:27:54.127844Z",
          "iopub.status.idle": "2021-08-14T21:27:54.135276Z",
          "shell.execute_reply.started": "2021-08-14T21:27:54.127817Z",
          "shell.execute_reply": "2021-08-14T21:27:54.134288Z"
        },
        "trusted": true
      },
      "source": [
        "train_probe_dl = DataLoader(train_probe_ds, batch_size=2048, shuffle=True)\n",
        "test_probe_dl = DataLoader(test_probe_ds, batch_size=2048, shuffle=True)\n",
        "valid_probe_dl = DataLoader(valid_probe_ds, batch_size=2048, shuffle=True)"
      ],
      "execution_count": null,
      "outputs": []
    },
    {
      "cell_type": "markdown",
      "metadata": {
        "id": "De_NiNE2s7xN"
      },
      "source": [
        "## Activate GPU"
      ]
    },
    {
      "cell_type": "code",
      "metadata": {
        "id": "PE91ZPONj_aT",
        "execution": {
          "iopub.status.busy": "2021-08-14T21:27:55.517536Z",
          "iopub.execute_input": "2021-08-14T21:27:55.517854Z",
          "iopub.status.idle": "2021-08-14T21:27:55.525456Z",
          "shell.execute_reply.started": "2021-08-14T21:27:55.517827Z",
          "shell.execute_reply": "2021-08-14T21:27:55.523900Z"
        },
        "trusted": true
      },
      "source": [
        "def get_default_device():\n",
        "    \"\"\"Pick GPU if available, else CPU\"\"\"\n",
        "    if torch.cuda.is_available():\n",
        "        return torch.device('cuda')\n",
        "    else:\n",
        "        return torch.device('cpu')\n",
        "    \n",
        "def to_device(data, device):\n",
        "    \"\"\"Move tensor(s) to chosen device\"\"\"\n",
        "    if isinstance(data, (list,tuple)):\n",
        "        return [to_device(x, device) for x in data]\n",
        "    return data.to(device, non_blocking=True)\n",
        "\n",
        "class DeviceDataLoader():\n",
        "    \"\"\"Wrap a dataloader to move data to a device\"\"\"\n",
        "    def __init__(self, dl, device):\n",
        "        self.dl = dl\n",
        "        self.device = device\n",
        "        \n",
        "    def __iter__(self):\n",
        "        \"\"\"Yield a batch of data after moving it to device\"\"\"\n",
        "        for b in self.dl: \n",
        "            yield to_device(b, self.device)\n",
        "\n",
        "    def __len__(self):\n",
        "        \"\"\"Number of batches\"\"\"\n",
        "        return len(self.dl)"
      ],
      "execution_count": null,
      "outputs": []
    },
    {
      "cell_type": "code",
      "metadata": {
        "id": "WnuFjgTzj_aT",
        "execution": {
          "iopub.status.busy": "2021-08-14T21:27:56.160342Z",
          "iopub.execute_input": "2021-08-14T21:27:56.160677Z",
          "iopub.status.idle": "2021-08-14T21:27:56.165593Z",
          "shell.execute_reply.started": "2021-08-14T21:27:56.160647Z",
          "shell.execute_reply": "2021-08-14T21:27:56.164310Z"
        },
        "trusted": true,
        "outputId": "f188782a-d93a-4a95-edc1-0a9ad4f90e49"
      },
      "source": [
        "device = get_default_device()\n",
        "print(device)"
      ],
      "execution_count": null,
      "outputs": [
        {
          "output_type": "stream",
          "text": [
            "cuda\n"
          ],
          "name": "stdout"
        }
      ]
    },
    {
      "cell_type": "markdown",
      "metadata": {
        "id": "blLJI0zGs-rb"
      },
      "source": [
        "### Move Dataloaders to GPU"
      ]
    },
    {
      "cell_type": "code",
      "metadata": {
        "id": "QuXuUvtUj_ac",
        "execution": {
          "iopub.status.busy": "2021-08-14T21:27:57.054436Z",
          "iopub.execute_input": "2021-08-14T21:27:57.054909Z",
          "iopub.status.idle": "2021-08-14T21:27:57.060308Z",
          "shell.execute_reply.started": "2021-08-14T21:27:57.054867Z",
          "shell.execute_reply": "2021-08-14T21:27:57.059057Z"
        },
        "trusted": true
      },
      "source": [
        "train_probe_dl = DeviceDataLoader(train_probe_dl, device)\n",
        "test_probe_dl = DeviceDataLoader(test_probe_dl, device)\n",
        "valid_probe_dl = DeviceDataLoader(valid_probe_dl, device)"
      ],
      "execution_count": null,
      "outputs": []
    },
    {
      "cell_type": "markdown",
      "metadata": {
        "id": "BCbNKShltD16"
      },
      "source": [
        "## Prepare models"
      ]
    },
    {
      "cell_type": "markdown",
      "metadata": {
        "id": "nbNEAE7TtH9f"
      },
      "source": [
        "### Inference model using BiLSTM"
      ]
    },
    {
      "cell_type": "code",
      "metadata": {
        "id": "zzawWVlRj_aU",
        "execution": {
          "iopub.status.busy": "2021-08-14T21:27:58.576992Z",
          "iopub.execute_input": "2021-08-14T21:27:58.577345Z",
          "iopub.status.idle": "2021-08-14T21:27:58.593811Z",
          "shell.execute_reply.started": "2021-08-14T21:27:58.577311Z",
          "shell.execute_reply": "2021-08-14T21:27:58.592799Z"
        },
        "trusted": true
      },
      "source": [
        "class Model(nn.Module) :\n",
        "    def __init__(self) :\n",
        "        super().__init__()\n",
        "        self.embeddings = nn.Embedding(vocab_size, 512, padding_idx=0)\n",
        "        self.trans = nn.Linear(512,128)\n",
        "        self.lstm = nn.LSTM(128, 128, batch_first=True,num_layers =2, bidirectional = True)\n",
        "        self.linear1 = nn.Linear(512, 1024)\n",
        "        self.linear2 = nn.Linear(1024, 256)\n",
        "        self.linear3 = nn.Linear(256, 64)\n",
        "        self.linear4 = nn.Linear(64, 16)\n",
        "        self.linear5 = nn.Linear(16, 3)\n",
        "        self.dropout = nn.Dropout(0.2)\n",
        "        self.out = nn.LogSoftmax(dim=1)\n",
        "        \n",
        "    def forward(self, x1, x2):\n",
        "        \n",
        "        x1 = self.embeddings(x1)\n",
        "        x1 = self.trans(x1)\n",
        "        x1 = self.dropout(x1)\n",
        "        _,(x1,_) = self.lstm(x1)\n",
        "        \n",
        "        x2 = self.embeddings(x2)\n",
        "        x2 = self.trans(x2)\n",
        "        x2 = self.dropout(x2)\n",
        "        _,(x2,_) = self.lstm(x2)\n",
        "        \n",
        "        x1 = torch.cat((x1[-1], x1[-2]), dim=-1)\n",
        "        x2 = torch.cat((x2[-1], x2[-2]), dim=-1)\n",
        "\n",
        "        combined = torch.cat((x1, x2), dim=1)\n",
        "        \n",
        "        combined = F.relu(self.linear1(combined))\n",
        "        combined = self.dropout(combined)\n",
        "        \n",
        "        combined = F.relu(self.linear2(combined))\n",
        "        combined = self.dropout(combined)\n",
        "        \n",
        "        combined = F.relu(self.linear3(combined))\n",
        "        combined = self.dropout(combined)\n",
        "        \n",
        "        combined = F.relu(self.linear4(combined))\n",
        "        combined = self.dropout(combined)\n",
        "        \n",
        "        combined = F.relu(self.linear5(combined))\n",
        "        combined = self.out(combined)\n",
        "        \n",
        "        return combined"
      ],
      "execution_count": null,
      "outputs": []
    },
    {
      "cell_type": "code",
      "metadata": {
        "id": "ccrb_tfej_aV",
        "execution": {
          "iopub.status.busy": "2021-08-14T21:27:59.947061Z",
          "iopub.execute_input": "2021-08-14T21:27:59.947421Z",
          "iopub.status.idle": "2021-08-14T21:28:00.148913Z",
          "shell.execute_reply.started": "2021-08-14T21:27:59.947372Z",
          "shell.execute_reply": "2021-08-14T21:28:00.148048Z"
        },
        "trusted": true
      },
      "source": [
        "model =  Model()\n",
        "model = to_device(model, device)"
      ],
      "execution_count": null,
      "outputs": []
    },
    {
      "cell_type": "markdown",
      "metadata": {
        "id": "9TE0xo6otGbY"
      },
      "source": [
        "#### Load previously trained weights"
      ]
    },
    {
      "cell_type": "code",
      "metadata": {
        "id": "4W0wKXBrj_aV",
        "execution": {
          "iopub.status.busy": "2021-08-14T21:28:00.458973Z",
          "iopub.execute_input": "2021-08-14T21:28:00.459249Z",
          "iopub.status.idle": "2021-08-14T21:28:00.522370Z",
          "shell.execute_reply.started": "2021-08-14T21:28:00.459221Z",
          "shell.execute_reply": "2021-08-14T21:28:00.521470Z"
        },
        "trusted": true
      },
      "source": [
        "\n",
        "if torch.cuda.is_available():\n",
        "    model.load_state_dict(torch.load('../input/nlp-weight/trained-nlp-model-weigth-79.pt'))\n",
        "else:\n",
        "    model.load_state_dict(torch.load('../input/nlp-weight/trained-nlp-model-weigth-79.pt', map_location=torch.device('cpu')))\n"
      ],
      "execution_count": null,
      "outputs": []
    },
    {
      "cell_type": "markdown",
      "metadata": {
        "id": "z3TSqVA4tYjQ"
      },
      "source": [
        "### Probe Model"
      ]
    },
    {
      "cell_type": "code",
      "metadata": {
        "id": "5TG3oX8uj_ab",
        "execution": {
          "iopub.status.busy": "2021-08-14T21:28:01.162228Z",
          "iopub.execute_input": "2021-08-14T21:28:01.162587Z",
          "iopub.status.idle": "2021-08-14T21:28:01.170669Z",
          "shell.execute_reply.started": "2021-08-14T21:28:01.162554Z",
          "shell.execute_reply": "2021-08-14T21:28:01.169589Z"
        },
        "trusted": true
      },
      "source": [
        "class ProbeModel(nn.Module) :\n",
        "    def __init__(self) :\n",
        "        super().__init__()\n",
        "        self.embeddings = model.embeddings\n",
        "        self.trans = model.trans\n",
        "        self.lstm = model.lstm\n",
        "        for param in model.parameters():\n",
        "            param.requires_grad = False #Freeze embedding parameters from inital model\n",
        "        self.linear1 = nn.Linear(256, tag_length)\n",
        "        self.dropout = nn.Dropout(0.2)\n",
        "        self.out = nn.LogSoftmax(dim=1)\n",
        "        \n",
        "    def forward(self, x1):\n",
        "        \n",
        "        x1 = self.embeddings(x1)\n",
        "        x1 = self.trans(x1)\n",
        "        x1,(_,_) = self.lstm(x1)\n",
        "\n",
        "        x1 = self.linear1(x1)\n",
        "        op = self.out(x1)\n",
        "        s = op.shape\n",
        "        op = op.reshape(s[0],s[2],s[1])\n",
        "        return op"
      ],
      "execution_count": null,
      "outputs": []
    },
    {
      "cell_type": "code",
      "metadata": {
        "id": "m0eZ4Dzij_ab",
        "execution": {
          "iopub.status.busy": "2021-08-14T21:41:37.682841Z",
          "iopub.execute_input": "2021-08-14T21:41:37.683201Z",
          "iopub.status.idle": "2021-08-14T21:41:37.691135Z",
          "shell.execute_reply.started": "2021-08-14T21:41:37.683167Z",
          "shell.execute_reply": "2021-08-14T21:41:37.689983Z"
        },
        "trusted": true
      },
      "source": [
        "model_probe =  ProbeModel()\n",
        "model_probe = to_device(model_probe, device)"
      ],
      "execution_count": null,
      "outputs": []
    },
    {
      "cell_type": "markdown",
      "metadata": {
        "id": "xFcSwlNTtmyz"
      },
      "source": [
        "#### Check output"
      ]
    },
    {
      "cell_type": "code",
      "metadata": {
        "id": "8Lev9cjjj_ac",
        "execution": {
          "iopub.status.busy": "2021-08-14T21:41:40.262296Z",
          "iopub.execute_input": "2021-08-14T21:41:40.262728Z",
          "iopub.status.idle": "2021-08-14T21:41:40.565509Z",
          "shell.execute_reply.started": "2021-08-14T21:41:40.262694Z",
          "shell.execute_reply": "2021-08-14T21:41:40.564497Z"
        },
        "trusted": true,
        "outputId": "00b48eda-31e9-44bf-aa45-ae06873ea952"
      },
      "source": [
        "for batch in train_probe_dl:\n",
        "    with torch.no_grad():\n",
        "        model_probe.eval()\n",
        "        word,labels = batch\n",
        "        word = word.long()\n",
        "        out = (model_probe(word))\n",
        "        print(out.shape)\n",
        "        break\n",
        "        \n",
        "for batch in test_probe_dl:\n",
        "    with torch.no_grad():\n",
        "        model_probe.eval()\n",
        "        word,labels = batch\n",
        "        word = word.long()\n",
        "        out = (model_probe(word))\n",
        "        print(out.shape)\n",
        "        break\n",
        "        \n",
        "for batch in valid_probe_dl:\n",
        "    with torch.no_grad():\n",
        "        model_probe.eval()\n",
        "        word,labels = batch\n",
        "        word = word.long()\n",
        "        out = (model_probe(word))\n",
        "        print(out.shape)\n",
        "        break"
      ],
      "execution_count": null,
      "outputs": [
        {
          "output_type": "stream",
          "text": [
            "torch.Size([2048, 45, 80])\n",
            "torch.Size([2048, 45, 80])\n",
            "torch.Size([2048, 45, 80])\n"
          ],
          "name": "stdout"
        }
      ]
    },
    {
      "cell_type": "markdown",
      "metadata": {
        "id": "dUjTcSYOt42a"
      },
      "source": [
        "#### Choosing loss and optimizer"
      ]
    },
    {
      "cell_type": "code",
      "metadata": {
        "id": "irF_HmrCj_ac",
        "execution": {
          "iopub.status.busy": "2021-08-14T21:41:41.685846Z",
          "iopub.execute_input": "2021-08-14T21:41:41.686547Z",
          "iopub.status.idle": "2021-08-14T21:41:41.693078Z",
          "shell.execute_reply.started": "2021-08-14T21:41:41.686496Z",
          "shell.execute_reply": "2021-08-14T21:41:41.691896Z"
        },
        "trusted": true
      },
      "source": [
        "criterion = nn.NLLLoss().to(device)\n",
        "parameters = filter(lambda p: p.requires_grad, model_probe.parameters())\n",
        "optimizer = torch.optim.Adam(parameters, lr=0.0005)"
      ],
      "execution_count": null,
      "outputs": []
    },
    {
      "cell_type": "markdown",
      "metadata": {
        "id": "d4e059fQtqak"
      },
      "source": [
        "## Probing"
      ]
    },
    {
      "cell_type": "markdown",
      "metadata": {
        "id": "9LSfYw_gt0MZ"
      },
      "source": [
        "### Defining accuracy, evaluation and training functions"
      ]
    },
    {
      "cell_type": "code",
      "metadata": {
        "id": "L1kpoIUAj_ac",
        "execution": {
          "iopub.status.busy": "2021-08-14T21:41:43.181112Z",
          "iopub.execute_input": "2021-08-14T21:41:43.181451Z",
          "iopub.status.idle": "2021-08-14T21:41:43.187546Z",
          "shell.execute_reply.started": "2021-08-14T21:41:43.181413Z",
          "shell.execute_reply": "2021-08-14T21:41:43.186594Z"
        },
        "trusted": true
      },
      "source": [
        "def categorical_accuracy(preds, y):\n",
        "    \n",
        "    max_preds = preds.argmax(dim = 1, keepdim = True) # get the index of the max probability\n",
        "    correct = max_preds.squeeze(1).eq(y)\n",
        "    correct = correct.to('cpu')\n",
        "    y = y.to('cpu')\n",
        "    return correct.sum() / ( torch.FloatTensor([y.shape[0]]) * torch.FloatTensor([y.shape[1]]) )"
      ],
      "execution_count": null,
      "outputs": []
    },
    {
      "cell_type": "code",
      "metadata": {
        "id": "HqM7szN8j_ad",
        "execution": {
          "iopub.status.busy": "2021-08-14T21:41:43.399370Z",
          "iopub.execute_input": "2021-08-14T21:41:43.399754Z",
          "iopub.status.idle": "2021-08-14T21:41:43.407294Z",
          "shell.execute_reply.started": "2021-08-14T21:41:43.399723Z",
          "shell.execute_reply": "2021-08-14T21:41:43.406306Z"
        },
        "trusted": true
      },
      "source": [
        "def evaluate(model, iterator, criterion):\n",
        "    \n",
        "    epoch_loss = 0\n",
        "    epoch_acc = 0\n",
        "    \n",
        "    model.eval()\n",
        "    \n",
        "    with torch.no_grad():\n",
        "        for batch in iterator:\n",
        "\n",
        "            word,labels = batch\n",
        "            word = word.long()\n",
        "            labels = labels.long()\n",
        "        \n",
        "            predictions = model(word)\n",
        "            \n",
        "            loss = criterion(predictions, labels)\n",
        "                \n",
        "            acc = categorical_accuracy(predictions, labels)\n",
        "            \n",
        "            epoch_loss += loss.item()\n",
        "            epoch_acc += acc.item()\n",
        "        \n",
        "    return epoch_loss / len(iterator), epoch_acc / len(iterator)"
      ],
      "execution_count": null,
      "outputs": []
    },
    {
      "cell_type": "code",
      "metadata": {
        "id": "gfqwC9vDj_ad",
        "execution": {
          "iopub.status.busy": "2021-08-14T21:41:43.642885Z",
          "iopub.execute_input": "2021-08-14T21:41:43.643189Z",
          "iopub.status.idle": "2021-08-14T21:41:43.650088Z",
          "shell.execute_reply.started": "2021-08-14T21:41:43.643162Z",
          "shell.execute_reply": "2021-08-14T21:41:43.648843Z"
        },
        "trusted": true
      },
      "source": [
        "def train(model, iterator, optimizer, criterion):\n",
        "    \n",
        "    epoch_loss = 0\n",
        "    epoch_acc = 0\n",
        "    \n",
        "    model.train()\n",
        "    \n",
        "    for batch in iterator:\n",
        "        \n",
        "        word,labels = batch\n",
        "        word = word.long()\n",
        "        labels = labels.long()\n",
        "        \n",
        "        optimizer.zero_grad()\n",
        "        \n",
        "        #prem = [prem sent len, batch size]\n",
        "        #hypo = [hypo sent len, batch size]\n",
        "        \n",
        "        predictions = model(word)\n",
        "        \n",
        "        #predictions = [batch size, output dim]\n",
        "        #labels = [batch size]\n",
        "        \n",
        "        loss = criterion(predictions, labels)\n",
        "                \n",
        "        acc = categorical_accuracy(predictions, labels)\n",
        "        \n",
        "        loss.backward()\n",
        "        \n",
        "        optimizer.step()\n",
        "        \n",
        "        epoch_loss += loss.item()\n",
        "        epoch_acc += acc.item()\n",
        "        \n",
        "    return epoch_loss / len(iterator), epoch_acc / len(iterator)"
      ],
      "execution_count": null,
      "outputs": []
    },
    {
      "cell_type": "code",
      "metadata": {
        "id": "H0fyXP_0j_ad",
        "execution": {
          "iopub.status.busy": "2021-08-14T21:41:44.265241Z",
          "iopub.execute_input": "2021-08-14T21:41:44.265619Z",
          "iopub.status.idle": "2021-08-14T21:41:44.271570Z",
          "shell.execute_reply.started": "2021-08-14T21:41:44.265587Z",
          "shell.execute_reply": "2021-08-14T21:41:44.270512Z"
        },
        "trusted": true
      },
      "source": [
        "def epoch_time(start_time, end_time):\n",
        "    elapsed_time = end_time - start_time\n",
        "    elapsed_mins = int(elapsed_time / 60)\n",
        "    elapsed_secs = int(elapsed_time - (elapsed_mins * 60))\n",
        "    return elapsed_mins, elapsed_secs"
      ],
      "execution_count": null,
      "outputs": []
    },
    {
      "cell_type": "markdown",
      "metadata": {
        "id": "cHlTdyiXt2ax"
      },
      "source": [
        "### Training"
      ]
    },
    {
      "cell_type": "code",
      "metadata": {
        "id": "ohg5R9zmj_ad",
        "execution": {
          "iopub.status.busy": "2021-08-14T21:41:45.263978Z",
          "iopub.execute_input": "2021-08-14T21:41:45.264289Z",
          "iopub.status.idle": "2021-08-14T21:56:09.927530Z",
          "shell.execute_reply.started": "2021-08-14T21:41:45.264260Z",
          "shell.execute_reply": "2021-08-14T21:56:09.926546Z"
        },
        "trusted": true,
        "outputId": "05e38dc0-9cbd-469b-fc01-51b48d6a773e"
      },
      "source": [
        "N_EPOCHS = 12\n",
        "tr_loss = []\n",
        "vl_loss = []\n",
        "tr_acc = []\n",
        "vl_acc = []\n",
        "\n",
        "best_valid_loss = float('inf')\n",
        "\n",
        "for epoch in range(N_EPOCHS):\n",
        "\n",
        "    start_time = time.time()\n",
        "    \n",
        "    train_loss, train_acc = train(model_probe, train_probe_dl, optimizer, criterion)\n",
        "    valid_loss, valid_acc = evaluate(model_probe, valid_probe_dl, criterion)\n",
        "    \n",
        "    tr_loss.append(train_loss)\n",
        "    vl_loss.append(valid_loss)\n",
        "    tr_acc.append(train_acc)\n",
        "    vl_acc.append(valid_acc)\n",
        "    \n",
        "    end_time = time.time()\n",
        "\n",
        "    epoch_mins, epoch_secs = epoch_time(start_time, end_time)\n",
        "    \n",
        "    if valid_loss < best_valid_loss:\n",
        "        best_valid_loss = valid_loss\n",
        "        torch.save(model_probe.state_dict(), 'probe1-model.pt')\n",
        "    \n",
        "    print(f'Epoch: {epoch+1:02} | Epoch Time: {epoch_mins}m {epoch_secs}s')\n",
        "    print(f'\\tTrain Loss: {train_loss:.3f} | Train Acc: {train_acc*100:.2f}%')\n",
        "    print(f'\\t Val. Loss: {valid_loss:.3f} |  Val. Acc: {valid_acc*100:.2f}%')"
      ],
      "execution_count": null,
      "outputs": [
        {
          "output_type": "stream",
          "text": [
            "Epoch: 01 | Epoch Time: 1m 10s\n",
            "\tTrain Loss: 2.868 | Train Acc: 51.36%\n",
            "\t Val. Loss: 2.128 |  Val. Acc: 68.66%\n",
            "Epoch: 02 | Epoch Time: 1m 11s\n",
            "\tTrain Loss: 1.985 | Train Acc: 71.12%\n",
            "\t Val. Loss: 1.783 |  Val. Acc: 76.03%\n",
            "Epoch: 03 | Epoch Time: 1m 12s\n",
            "\tTrain Loss: 1.814 | Train Acc: 75.94%\n",
            "\t Val. Loss: 1.651 |  Val. Acc: 79.66%\n",
            "Epoch: 04 | Epoch Time: 1m 11s\n",
            "\tTrain Loss: 1.742 | Train Acc: 78.21%\n",
            "\t Val. Loss: 1.580 |  Val. Acc: 81.82%\n",
            "Epoch: 05 | Epoch Time: 1m 12s\n",
            "\tTrain Loss: 1.701 | Train Acc: 79.50%\n",
            "\t Val. Loss: 1.535 |  Val. Acc: 83.20%\n",
            "Epoch: 07 | Epoch Time: 1m 10s\n",
            "\tTrain Loss: 1.653 | Train Acc: 80.91%\n",
            "\t Val. Loss: 1.482 |  Val. Acc: 84.78%\n",
            "Epoch: 08 | Epoch Time: 1m 11s\n",
            "\tTrain Loss: 1.638 | Train Acc: 81.34%\n",
            "\t Val. Loss: 1.464 |  Val. Acc: 85.27%\n",
            "Epoch: 09 | Epoch Time: 1m 12s\n",
            "\tTrain Loss: 1.626 | Train Acc: 81.67%\n",
            "\t Val. Loss: 1.452 |  Val. Acc: 85.61%\n",
            "Epoch: 10 | Epoch Time: 1m 11s\n",
            "\tTrain Loss: 1.616 | Train Acc: 81.91%\n",
            "\t Val. Loss: 1.442 |  Val. Acc: 85.87%\n",
            "Epoch: 11 | Epoch Time: 1m 12s\n",
            "\tTrain Loss: 1.609 | Train Acc: 82.11%\n",
            "\t Val. Loss: 1.434 |  Val. Acc: 86.07%\n",
            "Epoch: 12 | Epoch Time: 1m 11s\n",
            "\tTrain Loss: 1.603 | Train Acc: 82.26%\n",
            "\t Val. Loss: 1.428 |  Val. Acc: 86.23%\n"
          ],
          "name": "stdout"
        }
      ]
    },
    {
      "cell_type": "code",
      "metadata": {
        "id": "ZH4T1aIrj_ad",
        "execution": {
          "iopub.status.busy": "2021-08-14T21:56:09.929219Z",
          "iopub.execute_input": "2021-08-14T21:56:09.929601Z",
          "iopub.status.idle": "2021-08-14T21:56:10.761801Z",
          "shell.execute_reply.started": "2021-08-14T21:56:09.929563Z",
          "shell.execute_reply": "2021-08-14T21:56:10.760884Z"
        },
        "trusted": true,
        "outputId": "b7dba0d3-52aa-47d1-ad47-0bf8746bf2e1"
      },
      "source": [
        "model_probe.load_state_dict(torch.load('probe1-model.pt'))\n",
        "\n",
        "test_loss, test_acc = evaluate(model_probe, test_probe_dl, criterion)\n",
        "\n",
        "print(f'Test Loss: {test_loss:.3f} |  Test Acc: {test_acc*100:.2f}%')"
      ],
      "execution_count": null,
      "outputs": [
        {
          "output_type": "stream",
          "text": [
            "Test Loss: 1.629 |  Test Acc: 81.96%\n"
          ],
          "name": "stdout"
        }
      ]
    },
    {
      "cell_type": "code",
      "metadata": {
        "id": "CJ9cqbi2j_ad",
        "execution": {
          "iopub.status.busy": "2021-08-14T21:56:10.763546Z",
          "iopub.execute_input": "2021-08-14T21:56:10.764043Z",
          "iopub.status.idle": "2021-08-14T21:56:11.198618Z",
          "shell.execute_reply.started": "2021-08-14T21:56:10.763994Z",
          "shell.execute_reply": "2021-08-14T21:56:11.197499Z"
        },
        "trusted": true,
        "outputId": "af1b3c93-8c1c-4225-84c1-1cf14c69c42c"
      },
      "source": [
        "plt.plot(tr_loss, label = \"Training loss\")\n",
        "plt.plot(vl_loss, label = \"Validation loss\")\n",
        "plt.legend()\n",
        "plt.show()\n",
        "\n",
        "plt.plot(tr_acc, label = \"Training accuracy\")\n",
        "plt.plot(vl_acc, label = \"Validation accuracy\")\n",
        "plt.legend()\n",
        "plt.show()"
      ],
      "execution_count": null,
      "outputs": [
        {
          "output_type": "display_data",
          "data": {
            "text/plain": [
              "<Figure size 432x288 with 1 Axes>"
            ],
            "image/png": "[encoded data removed]"
          },
          "metadata": {
            "tags": [],
            "needs_background": "light"
          }
        },
        {
          "output_type": "display_data",
          "data": {
            "text/plain": [
              "<Figure size 432x288 with 1 Axes>"
            ],
            "image/png": "[encoded data removed]"
          },
          "metadata": {
            "tags": [],
            "needs_background": "light"
          }
        }
      ]
    },
    {
      "cell_type": "code",
      "metadata": {
        "id": "hJQD4DURrw5o"
      },
      "source": [
        ""
      ],
      "execution_count": null,
      "outputs": []
    }
  ]
}